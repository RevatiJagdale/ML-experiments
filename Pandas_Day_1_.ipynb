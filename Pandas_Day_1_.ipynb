{
  "cells": [
    {
      "cell_type": "markdown",
      "metadata": {
        "id": "view-in-github",
        "colab_type": "text"
      },
      "source": [
        "<a href=\"https://colab.research.google.com/github/RevatiJagdale/ML-experiments/blob/main/Pandas_Day_1_.ipynb\" target=\"_parent\"><img src=\"https://colab.research.google.com/assets/colab-badge.svg\" alt=\"Open In Colab\"/></a>"
      ]
    },
    {
      "cell_type": "markdown",
      "id": "5a185d2d",
      "metadata": {
        "id": "5a185d2d"
      },
      "source": [
        "# PANDAS - Python Data Analysis Library"
      ]
    },
    {
      "cell_type": "markdown",
      "id": "b958ae08",
      "metadata": {
        "id": "b958ae08"
      },
      "source": [
        "- Open Source\n",
        "- Inspired from Numpy"
      ]
    },
    {
      "cell_type": "markdown",
      "id": "4d45ec72",
      "metadata": {
        "id": "4d45ec72"
      },
      "source": [
        "- Panda processing data which helps in data analysis\n",
        "- It provides functions and methods to efficiently manipulate large datasets\n",
        "- Used for analysis and cleaning"
      ]
    },
    {
      "cell_type": "code",
      "execution_count": null,
      "id": "e6a8c8de",
      "metadata": {
        "id": "e6a8c8de"
      },
      "outputs": [],
      "source": [
        "# Dictionary in python : Keys, values, ordered/paired data"
      ]
    },
    {
      "cell_type": "code",
      "execution_count": null,
      "id": "2ef945a6",
      "metadata": {
        "id": "2ef945a6"
      },
      "outputs": [],
      "source": [
        "# List in pyton : multiple items in a single variable"
      ]
    },
    {
      "cell_type": "code",
      "execution_count": null,
      "id": "280aca86",
      "metadata": {
        "id": "280aca86"
      },
      "outputs": [],
      "source": [
        "##Name , Age and marks of 4 students"
      ]
    },
    {
      "cell_type": "code",
      "execution_count": null,
      "id": "3dcefd73",
      "metadata": {
        "id": "3dcefd73",
        "outputId": "a8ef59e7-a445-4a5c-9969-7f0dc61e2716"
      },
      "outputs": [
        {
          "data": {
            "text/plain": [
              "{'Name': ['Tom', 'Nick', 'Krish', 'Jack'],\n",
              " 'Age': [20, 19, 18, 15],\n",
              " 'Marks': [50, 75, 83, 65]}"
            ]
          },
          "execution_count": 4,
          "metadata": {},
          "output_type": "execute_result"
        }
      ],
      "source": [
        "data = {\"Name\":['Tom','Nick','Krish','Jack'],\"Age\":[20,19,18,15],\"Marks\":[50,75,83,65]}\n",
        "data"
      ]
    },
    {
      "cell_type": "code",
      "execution_count": null,
      "id": "455f77a7",
      "metadata": {
        "id": "455f77a7"
      },
      "outputs": [],
      "source": [
        "# Loading the library"
      ]
    },
    {
      "cell_type": "code",
      "execution_count": null,
      "id": "9d1abe31",
      "metadata": {
        "id": "9d1abe31"
      },
      "outputs": [],
      "source": [
        "import pandas as pd"
      ]
    },
    {
      "cell_type": "code",
      "execution_count": null,
      "id": "64310337",
      "metadata": {
        "id": "64310337"
      },
      "outputs": [],
      "source": [
        "import pandas"
      ]
    },
    {
      "cell_type": "markdown",
      "id": "6ffddb85",
      "metadata": {
        "id": "6ffddb85"
      },
      "source": [
        "### Converting a dictionary to a dataframe\n",
        "##### DataFrame - 2D data structure, which shows the data in a tabular form of rows and columns"
      ]
    },
    {
      "cell_type": "code",
      "execution_count": null,
      "id": "24259d38",
      "metadata": {
        "id": "24259d38"
      },
      "outputs": [],
      "source": [
        "# Syntax: pd.DataFrame"
      ]
    },
    {
      "cell_type": "code",
      "execution_count": null,
      "id": "ef3c51f4",
      "metadata": {
        "id": "ef3c51f4"
      },
      "outputs": [],
      "source": [
        "df = pd.DataFrame(data)"
      ]
    },
    {
      "cell_type": "code",
      "execution_count": null,
      "id": "27d020e2",
      "metadata": {
        "id": "27d020e2",
        "outputId": "d44807d4-7313-4f7c-afa1-3141c518820a"
      },
      "outputs": [
        {
          "data": {
            "text/html": [
              "<div>\n",
              "<style scoped>\n",
              "    .dataframe tbody tr th:only-of-type {\n",
              "        vertical-align: middle;\n",
              "    }\n",
              "\n",
              "    .dataframe tbody tr th {\n",
              "        vertical-align: top;\n",
              "    }\n",
              "\n",
              "    .dataframe thead th {\n",
              "        text-align: right;\n",
              "    }\n",
              "</style>\n",
              "<table border=\"1\" class=\"dataframe\">\n",
              "  <thead>\n",
              "    <tr style=\"text-align: right;\">\n",
              "      <th></th>\n",
              "      <th>Name</th>\n",
              "      <th>Age</th>\n",
              "      <th>Marks</th>\n",
              "    </tr>\n",
              "  </thead>\n",
              "  <tbody>\n",
              "    <tr>\n",
              "      <th>0</th>\n",
              "      <td>Tom</td>\n",
              "      <td>20</td>\n",
              "      <td>50</td>\n",
              "    </tr>\n",
              "    <tr>\n",
              "      <th>1</th>\n",
              "      <td>Nick</td>\n",
              "      <td>19</td>\n",
              "      <td>75</td>\n",
              "    </tr>\n",
              "    <tr>\n",
              "      <th>2</th>\n",
              "      <td>Krish</td>\n",
              "      <td>18</td>\n",
              "      <td>83</td>\n",
              "    </tr>\n",
              "    <tr>\n",
              "      <th>3</th>\n",
              "      <td>Jack</td>\n",
              "      <td>15</td>\n",
              "      <td>65</td>\n",
              "    </tr>\n",
              "  </tbody>\n",
              "</table>\n",
              "</div>"
            ],
            "text/plain": [
              "    Name  Age  Marks\n",
              "0    Tom   20     50\n",
              "1   Nick   19     75\n",
              "2  Krish   18     83\n",
              "3   Jack   15     65"
            ]
          },
          "execution_count": 11,
          "metadata": {},
          "output_type": "execute_result"
        }
      ],
      "source": [
        "df"
      ]
    },
    {
      "cell_type": "markdown",
      "id": "ae41874a",
      "metadata": {
        "id": "ae41874a"
      },
      "source": [
        " Try : Create a dictionary with Name, Degree and Score of 35 Students and convert this to a dataframe"
      ]
    },
    {
      "cell_type": "code",
      "execution_count": null,
      "id": "626fdba1",
      "metadata": {
        "id": "626fdba1"
      },
      "outputs": [],
      "source": [
        "# Load a dataset into Python\n",
        "# Syntax: pd.read_csv - Comma separated values\n",
        "## pd.read_excel for xlsx files"
      ]
    },
    {
      "cell_type": "code",
      "execution_count": null,
      "id": "ceda9de5",
      "metadata": {
        "id": "ceda9de5"
      },
      "outputs": [],
      "source": [
        "employee = pd.read_csv(r\"C:\\Users\\nayanamenon1\\OneDrive - KPMG\\Desktop\\Employee Details.csv\")"
      ]
    },
    {
      "cell_type": "code",
      "execution_count": null,
      "id": "ed9d74c1",
      "metadata": {
        "id": "ed9d74c1",
        "outputId": "07b2b332-b36e-4147-b68f-a24f298f6589"
      },
      "outputs": [
        {
          "data": {
            "text/html": [
              "<div>\n",
              "<style scoped>\n",
              "    .dataframe tbody tr th:only-of-type {\n",
              "        vertical-align: middle;\n",
              "    }\n",
              "\n",
              "    .dataframe tbody tr th {\n",
              "        vertical-align: top;\n",
              "    }\n",
              "\n",
              "    .dataframe thead th {\n",
              "        text-align: right;\n",
              "    }\n",
              "</style>\n",
              "<table border=\"1\" class=\"dataframe\">\n",
              "  <thead>\n",
              "    <tr style=\"text-align: right;\">\n",
              "      <th></th>\n",
              "      <th>ID</th>\n",
              "      <th>Name</th>\n",
              "      <th>Age</th>\n",
              "      <th>Salary</th>\n",
              "      <th>Department</th>\n",
              "    </tr>\n",
              "  </thead>\n",
              "  <tbody>\n",
              "    <tr>\n",
              "      <th>0</th>\n",
              "      <td>1106</td>\n",
              "      <td>Manisha Preethi</td>\n",
              "      <td>33.0</td>\n",
              "      <td>92546.0</td>\n",
              "      <td>Business Analytics</td>\n",
              "    </tr>\n",
              "    <tr>\n",
              "      <th>1</th>\n",
              "      <td>1092</td>\n",
              "      <td>Rajni Jagadish</td>\n",
              "      <td>34.0</td>\n",
              "      <td>65924.0</td>\n",
              "      <td>Manufacturing</td>\n",
              "    </tr>\n",
              "    <tr>\n",
              "      <th>2</th>\n",
              "      <td>1631</td>\n",
              "      <td>Vasu Sanjeev</td>\n",
              "      <td>23.0</td>\n",
              "      <td>42885.0</td>\n",
              "      <td>Management Consulting</td>\n",
              "    </tr>\n",
              "    <tr>\n",
              "      <th>3</th>\n",
              "      <td>1936</td>\n",
              "      <td>Mariela Mcmillan</td>\n",
              "      <td>28.0</td>\n",
              "      <td>94363.0</td>\n",
              "      <td>Sales</td>\n",
              "    </tr>\n",
              "    <tr>\n",
              "      <th>4</th>\n",
              "      <td>1464</td>\n",
              "      <td>Alana Washington</td>\n",
              "      <td>35.0</td>\n",
              "      <td>83573.0</td>\n",
              "      <td>Business Analytics</td>\n",
              "    </tr>\n",
              "    <tr>\n",
              "      <th>5</th>\n",
              "      <td>1245</td>\n",
              "      <td>Sidney Ballard</td>\n",
              "      <td>37.0</td>\n",
              "      <td>33852.0</td>\n",
              "      <td>Management Consulting</td>\n",
              "    </tr>\n",
              "    <tr>\n",
              "      <th>6</th>\n",
              "      <td>1997</td>\n",
              "      <td>Esmeralda Mann</td>\n",
              "      <td>NaN</td>\n",
              "      <td>48713.0</td>\n",
              "      <td>Sales</td>\n",
              "    </tr>\n",
              "    <tr>\n",
              "      <th>7</th>\n",
              "      <td>1955</td>\n",
              "      <td>Elian Bartlett</td>\n",
              "      <td>28.0</td>\n",
              "      <td>56757.0</td>\n",
              "      <td>Business Analytics</td>\n",
              "    </tr>\n",
              "    <tr>\n",
              "      <th>8</th>\n",
              "      <td>1251</td>\n",
              "      <td>Zion Huffman</td>\n",
              "      <td>33.0</td>\n",
              "      <td>31007.0</td>\n",
              "      <td>NaN</td>\n",
              "    </tr>\n",
              "    <tr>\n",
              "      <th>9</th>\n",
              "      <td>1286</td>\n",
              "      <td>Lailah Kaiser</td>\n",
              "      <td>32.0</td>\n",
              "      <td>48899.0</td>\n",
              "      <td>Business Analytics</td>\n",
              "    </tr>\n",
              "    <tr>\n",
              "      <th>10</th>\n",
              "      <td>1739</td>\n",
              "      <td>Jaidyn Patrick</td>\n",
              "      <td>31.0</td>\n",
              "      <td>28685.0</td>\n",
              "      <td>Accounting</td>\n",
              "    </tr>\n",
              "    <tr>\n",
              "      <th>11</th>\n",
              "      <td>1711</td>\n",
              "      <td>Steve Duarte</td>\n",
              "      <td>37.0</td>\n",
              "      <td>NaN</td>\n",
              "      <td>Human Resources</td>\n",
              "    </tr>\n",
              "    <tr>\n",
              "      <th>12</th>\n",
              "      <td>1906</td>\n",
              "      <td>Kaleigh Wiggins</td>\n",
              "      <td>23.0</td>\n",
              "      <td>85430.0</td>\n",
              "      <td>Business Analytics</td>\n",
              "    </tr>\n",
              "    <tr>\n",
              "      <th>13</th>\n",
              "      <td>1437</td>\n",
              "      <td>Teagan Mullen</td>\n",
              "      <td>29.0</td>\n",
              "      <td>80120.0</td>\n",
              "      <td>Accounting</td>\n",
              "    </tr>\n",
              "    <tr>\n",
              "      <th>14</th>\n",
              "      <td>1319</td>\n",
              "      <td>Moriah Armstrong</td>\n",
              "      <td>23.0</td>\n",
              "      <td>53021.0</td>\n",
              "      <td>NaN</td>\n",
              "    </tr>\n",
              "    <tr>\n",
              "      <th>15</th>\n",
              "      <td>1568</td>\n",
              "      <td>Dominic Huang</td>\n",
              "      <td>38.0</td>\n",
              "      <td>51077.0</td>\n",
              "      <td>Manufacturing</td>\n",
              "    </tr>\n",
              "    <tr>\n",
              "      <th>16</th>\n",
              "      <td>1303</td>\n",
              "      <td>Deven Wallace</td>\n",
              "      <td>NaN</td>\n",
              "      <td>81215.0</td>\n",
              "      <td>Manufacturing</td>\n",
              "    </tr>\n",
              "    <tr>\n",
              "      <th>17</th>\n",
              "      <td>1584</td>\n",
              "      <td>Yahir Levine</td>\n",
              "      <td>NaN</td>\n",
              "      <td>57417.0</td>\n",
              "      <td>Sales</td>\n",
              "    </tr>\n",
              "    <tr>\n",
              "      <th>18</th>\n",
              "      <td>1553</td>\n",
              "      <td>Shayla Landry</td>\n",
              "      <td>35.0</td>\n",
              "      <td>32618.0</td>\n",
              "      <td>Manufacturing</td>\n",
              "    </tr>\n",
              "    <tr>\n",
              "      <th>19</th>\n",
              "      <td>1493</td>\n",
              "      <td>Judah Wong</td>\n",
              "      <td>NaN</td>\n",
              "      <td>86820.0</td>\n",
              "      <td>Accounting</td>\n",
              "    </tr>\n",
              "    <tr>\n",
              "      <th>20</th>\n",
              "      <td>1094</td>\n",
              "      <td>Jade Lynch</td>\n",
              "      <td>37.0</td>\n",
              "      <td>68054.0</td>\n",
              "      <td>Human Resources</td>\n",
              "    </tr>\n",
              "    <tr>\n",
              "      <th>21</th>\n",
              "      <td>1144</td>\n",
              "      <td>Dereon Sheppard</td>\n",
              "      <td>31.0</td>\n",
              "      <td>NaN</td>\n",
              "      <td>Manufacturing</td>\n",
              "    </tr>\n",
              "    <tr>\n",
              "      <th>22</th>\n",
              "      <td>1781</td>\n",
              "      <td>Kimora Phelps</td>\n",
              "      <td>30.0</td>\n",
              "      <td>NaN</td>\n",
              "      <td>Business Analytics</td>\n",
              "    </tr>\n",
              "    <tr>\n",
              "      <th>23</th>\n",
              "      <td>1600</td>\n",
              "      <td>Estrella Nunez</td>\n",
              "      <td>NaN</td>\n",
              "      <td>41895.0</td>\n",
              "      <td>Human Resources</td>\n",
              "    </tr>\n",
              "    <tr>\n",
              "      <th>24</th>\n",
              "      <td>1450</td>\n",
              "      <td>Johnathan Ortega</td>\n",
              "      <td>31.0</td>\n",
              "      <td>40065.0</td>\n",
              "      <td>Business Analytics</td>\n",
              "    </tr>\n",
              "    <tr>\n",
              "      <th>25</th>\n",
              "      <td>1883</td>\n",
              "      <td>Kyla Farrell</td>\n",
              "      <td>23.0</td>\n",
              "      <td>27867.0</td>\n",
              "      <td>Human Resources</td>\n",
              "    </tr>\n",
              "    <tr>\n",
              "      <th>26</th>\n",
              "      <td>1068</td>\n",
              "      <td>Kimora Lucas</td>\n",
              "      <td>37.0</td>\n",
              "      <td>44024.0</td>\n",
              "      <td>NaN</td>\n",
              "    </tr>\n",
              "    <tr>\n",
              "      <th>27</th>\n",
              "      <td>1588</td>\n",
              "      <td>Alyvia Ramsey</td>\n",
              "      <td>35.0</td>\n",
              "      <td>90506.0</td>\n",
              "      <td>Human Resources</td>\n",
              "    </tr>\n",
              "    <tr>\n",
              "      <th>28</th>\n",
              "      <td>1268</td>\n",
              "      <td>Madalynn Ruiz</td>\n",
              "      <td>28.0</td>\n",
              "      <td>86144.0</td>\n",
              "      <td>Sales</td>\n",
              "    </tr>\n",
              "    <tr>\n",
              "      <th>29</th>\n",
              "      <td>1411</td>\n",
              "      <td>Ashly Peterson</td>\n",
              "      <td>29.0</td>\n",
              "      <td>77059.0</td>\n",
              "      <td>Business Analytics</td>\n",
              "    </tr>\n",
              "    <tr>\n",
              "      <th>30</th>\n",
              "      <td>1577</td>\n",
              "      <td>Gabriel Thornton</td>\n",
              "      <td>39.0</td>\n",
              "      <td>NaN</td>\n",
              "      <td>NaN</td>\n",
              "    </tr>\n",
              "    <tr>\n",
              "      <th>31</th>\n",
              "      <td>1139</td>\n",
              "      <td>Elaine Santiago</td>\n",
              "      <td>24.0</td>\n",
              "      <td>85798.0</td>\n",
              "      <td>Sales</td>\n",
              "    </tr>\n",
              "    <tr>\n",
              "      <th>32</th>\n",
              "      <td>1772</td>\n",
              "      <td>Makenzie Herman</td>\n",
              "      <td>31.0</td>\n",
              "      <td>71262.0</td>\n",
              "      <td>Accounting</td>\n",
              "    </tr>\n",
              "  </tbody>\n",
              "</table>\n",
              "</div>"
            ],
            "text/plain": [
              "      ID              Name   Age   Salary             Department\n",
              "0   1106   Manisha Preethi  33.0  92546.0     Business Analytics\n",
              "1   1092    Rajni Jagadish  34.0  65924.0          Manufacturing\n",
              "2   1631      Vasu Sanjeev  23.0  42885.0  Management Consulting\n",
              "3   1936  Mariela Mcmillan  28.0  94363.0                  Sales\n",
              "4   1464  Alana Washington  35.0  83573.0     Business Analytics\n",
              "5   1245    Sidney Ballard  37.0  33852.0  Management Consulting\n",
              "6   1997    Esmeralda Mann   NaN  48713.0                  Sales\n",
              "7   1955    Elian Bartlett  28.0  56757.0     Business Analytics\n",
              "8   1251      Zion Huffman  33.0  31007.0                    NaN\n",
              "9   1286     Lailah Kaiser  32.0  48899.0     Business Analytics\n",
              "10  1739    Jaidyn Patrick  31.0  28685.0             Accounting\n",
              "11  1711      Steve Duarte  37.0      NaN        Human Resources\n",
              "12  1906   Kaleigh Wiggins  23.0  85430.0     Business Analytics\n",
              "13  1437     Teagan Mullen  29.0  80120.0             Accounting\n",
              "14  1319  Moriah Armstrong  23.0  53021.0                    NaN\n",
              "15  1568     Dominic Huang  38.0  51077.0          Manufacturing\n",
              "16  1303     Deven Wallace   NaN  81215.0          Manufacturing\n",
              "17  1584      Yahir Levine   NaN  57417.0                  Sales\n",
              "18  1553     Shayla Landry  35.0  32618.0          Manufacturing\n",
              "19  1493        Judah Wong   NaN  86820.0             Accounting\n",
              "20  1094        Jade Lynch  37.0  68054.0        Human Resources\n",
              "21  1144   Dereon Sheppard  31.0      NaN          Manufacturing\n",
              "22  1781     Kimora Phelps  30.0      NaN     Business Analytics\n",
              "23  1600    Estrella Nunez   NaN  41895.0        Human Resources\n",
              "24  1450  Johnathan Ortega  31.0  40065.0     Business Analytics\n",
              "25  1883      Kyla Farrell  23.0  27867.0        Human Resources\n",
              "26  1068      Kimora Lucas  37.0  44024.0                    NaN\n",
              "27  1588     Alyvia Ramsey  35.0  90506.0        Human Resources\n",
              "28  1268     Madalynn Ruiz  28.0  86144.0                  Sales\n",
              "29  1411    Ashly Peterson  29.0  77059.0     Business Analytics\n",
              "30  1577  Gabriel Thornton  39.0      NaN                    NaN\n",
              "31  1139   Elaine Santiago  24.0  85798.0                  Sales\n",
              "32  1772   Makenzie Herman  31.0  71262.0             Accounting"
            ]
          },
          "execution_count": 15,
          "metadata": {},
          "output_type": "execute_result"
        }
      ],
      "source": [
        "employee"
      ]
    },
    {
      "cell_type": "code",
      "execution_count": null,
      "id": "3d6187a4",
      "metadata": {
        "id": "3d6187a4"
      },
      "outputs": [],
      "source": [
        "# To view the first 5 rows of the dataset\n",
        "# head()"
      ]
    },
    {
      "cell_type": "code",
      "execution_count": null,
      "id": "277b906b",
      "metadata": {
        "id": "277b906b",
        "outputId": "fa5b61bf-88fe-43a9-f127-93a3b9b79423"
      },
      "outputs": [
        {
          "data": {
            "text/html": [
              "<div>\n",
              "<style scoped>\n",
              "    .dataframe tbody tr th:only-of-type {\n",
              "        vertical-align: middle;\n",
              "    }\n",
              "\n",
              "    .dataframe tbody tr th {\n",
              "        vertical-align: top;\n",
              "    }\n",
              "\n",
              "    .dataframe thead th {\n",
              "        text-align: right;\n",
              "    }\n",
              "</style>\n",
              "<table border=\"1\" class=\"dataframe\">\n",
              "  <thead>\n",
              "    <tr style=\"text-align: right;\">\n",
              "      <th></th>\n",
              "      <th>ID</th>\n",
              "      <th>Name</th>\n",
              "      <th>Age</th>\n",
              "      <th>Salary</th>\n",
              "      <th>Department</th>\n",
              "    </tr>\n",
              "  </thead>\n",
              "  <tbody>\n",
              "    <tr>\n",
              "      <th>0</th>\n",
              "      <td>1106</td>\n",
              "      <td>Manisha Preethi</td>\n",
              "      <td>33.0</td>\n",
              "      <td>92546.0</td>\n",
              "      <td>Business Analytics</td>\n",
              "    </tr>\n",
              "    <tr>\n",
              "      <th>1</th>\n",
              "      <td>1092</td>\n",
              "      <td>Rajni Jagadish</td>\n",
              "      <td>34.0</td>\n",
              "      <td>65924.0</td>\n",
              "      <td>Manufacturing</td>\n",
              "    </tr>\n",
              "    <tr>\n",
              "      <th>2</th>\n",
              "      <td>1631</td>\n",
              "      <td>Vasu Sanjeev</td>\n",
              "      <td>23.0</td>\n",
              "      <td>42885.0</td>\n",
              "      <td>Management Consulting</td>\n",
              "    </tr>\n",
              "    <tr>\n",
              "      <th>3</th>\n",
              "      <td>1936</td>\n",
              "      <td>Mariela Mcmillan</td>\n",
              "      <td>28.0</td>\n",
              "      <td>94363.0</td>\n",
              "      <td>Sales</td>\n",
              "    </tr>\n",
              "    <tr>\n",
              "      <th>4</th>\n",
              "      <td>1464</td>\n",
              "      <td>Alana Washington</td>\n",
              "      <td>35.0</td>\n",
              "      <td>83573.0</td>\n",
              "      <td>Business Analytics</td>\n",
              "    </tr>\n",
              "  </tbody>\n",
              "</table>\n",
              "</div>"
            ],
            "text/plain": [
              "     ID              Name   Age   Salary             Department\n",
              "0  1106   Manisha Preethi  33.0  92546.0     Business Analytics\n",
              "1  1092    Rajni Jagadish  34.0  65924.0          Manufacturing\n",
              "2  1631      Vasu Sanjeev  23.0  42885.0  Management Consulting\n",
              "3  1936  Mariela Mcmillan  28.0  94363.0                  Sales\n",
              "4  1464  Alana Washington  35.0  83573.0     Business Analytics"
            ]
          },
          "execution_count": 17,
          "metadata": {},
          "output_type": "execute_result"
        }
      ],
      "source": [
        "employee.head() # By default python gives the first 5 rows"
      ]
    },
    {
      "cell_type": "code",
      "execution_count": null,
      "id": "de12477c",
      "metadata": {
        "id": "de12477c"
      },
      "outputs": [],
      "source": [
        "#To view the last 5 rows of the dataset"
      ]
    },
    {
      "cell_type": "code",
      "execution_count": null,
      "id": "2a7cf74c",
      "metadata": {
        "id": "2a7cf74c",
        "outputId": "ebdccc89-8aa6-423b-c81d-9ba24ea780cb"
      },
      "outputs": [
        {
          "data": {
            "text/html": [
              "<div>\n",
              "<style scoped>\n",
              "    .dataframe tbody tr th:only-of-type {\n",
              "        vertical-align: middle;\n",
              "    }\n",
              "\n",
              "    .dataframe tbody tr th {\n",
              "        vertical-align: top;\n",
              "    }\n",
              "\n",
              "    .dataframe thead th {\n",
              "        text-align: right;\n",
              "    }\n",
              "</style>\n",
              "<table border=\"1\" class=\"dataframe\">\n",
              "  <thead>\n",
              "    <tr style=\"text-align: right;\">\n",
              "      <th></th>\n",
              "      <th>ID</th>\n",
              "      <th>Name</th>\n",
              "      <th>Age</th>\n",
              "      <th>Salary</th>\n",
              "      <th>Department</th>\n",
              "    </tr>\n",
              "  </thead>\n",
              "  <tbody>\n",
              "    <tr>\n",
              "      <th>28</th>\n",
              "      <td>1268</td>\n",
              "      <td>Madalynn Ruiz</td>\n",
              "      <td>28.0</td>\n",
              "      <td>86144.0</td>\n",
              "      <td>Sales</td>\n",
              "    </tr>\n",
              "    <tr>\n",
              "      <th>29</th>\n",
              "      <td>1411</td>\n",
              "      <td>Ashly Peterson</td>\n",
              "      <td>29.0</td>\n",
              "      <td>77059.0</td>\n",
              "      <td>Business Analytics</td>\n",
              "    </tr>\n",
              "    <tr>\n",
              "      <th>30</th>\n",
              "      <td>1577</td>\n",
              "      <td>Gabriel Thornton</td>\n",
              "      <td>39.0</td>\n",
              "      <td>NaN</td>\n",
              "      <td>NaN</td>\n",
              "    </tr>\n",
              "    <tr>\n",
              "      <th>31</th>\n",
              "      <td>1139</td>\n",
              "      <td>Elaine Santiago</td>\n",
              "      <td>24.0</td>\n",
              "      <td>85798.0</td>\n",
              "      <td>Sales</td>\n",
              "    </tr>\n",
              "    <tr>\n",
              "      <th>32</th>\n",
              "      <td>1772</td>\n",
              "      <td>Makenzie Herman</td>\n",
              "      <td>31.0</td>\n",
              "      <td>71262.0</td>\n",
              "      <td>Accounting</td>\n",
              "    </tr>\n",
              "  </tbody>\n",
              "</table>\n",
              "</div>"
            ],
            "text/plain": [
              "      ID              Name   Age   Salary          Department\n",
              "28  1268     Madalynn Ruiz  28.0  86144.0               Sales\n",
              "29  1411    Ashly Peterson  29.0  77059.0  Business Analytics\n",
              "30  1577  Gabriel Thornton  39.0      NaN                 NaN\n",
              "31  1139   Elaine Santiago  24.0  85798.0               Sales\n",
              "32  1772   Makenzie Herman  31.0  71262.0          Accounting"
            ]
          },
          "execution_count": 19,
          "metadata": {},
          "output_type": "execute_result"
        }
      ],
      "source": [
        "employee.tail()"
      ]
    },
    {
      "cell_type": "code",
      "execution_count": null,
      "id": "627679e7",
      "metadata": {
        "id": "627679e7",
        "outputId": "6447798c-bb87-45bd-f453-c6cef3230088"
      },
      "outputs": [
        {
          "data": {
            "text/html": [
              "<div>\n",
              "<style scoped>\n",
              "    .dataframe tbody tr th:only-of-type {\n",
              "        vertical-align: middle;\n",
              "    }\n",
              "\n",
              "    .dataframe tbody tr th {\n",
              "        vertical-align: top;\n",
              "    }\n",
              "\n",
              "    .dataframe thead th {\n",
              "        text-align: right;\n",
              "    }\n",
              "</style>\n",
              "<table border=\"1\" class=\"dataframe\">\n",
              "  <thead>\n",
              "    <tr style=\"text-align: right;\">\n",
              "      <th></th>\n",
              "      <th>ID</th>\n",
              "      <th>Name</th>\n",
              "      <th>Age</th>\n",
              "      <th>Salary</th>\n",
              "      <th>Department</th>\n",
              "    </tr>\n",
              "  </thead>\n",
              "  <tbody>\n",
              "    <tr>\n",
              "      <th>0</th>\n",
              "      <td>1106</td>\n",
              "      <td>Manisha Preethi</td>\n",
              "      <td>33.0</td>\n",
              "      <td>92546.0</td>\n",
              "      <td>Business Analytics</td>\n",
              "    </tr>\n",
              "    <tr>\n",
              "      <th>1</th>\n",
              "      <td>1092</td>\n",
              "      <td>Rajni Jagadish</td>\n",
              "      <td>34.0</td>\n",
              "      <td>65924.0</td>\n",
              "      <td>Manufacturing</td>\n",
              "    </tr>\n",
              "    <tr>\n",
              "      <th>2</th>\n",
              "      <td>1631</td>\n",
              "      <td>Vasu Sanjeev</td>\n",
              "      <td>23.0</td>\n",
              "      <td>42885.0</td>\n",
              "      <td>Management Consulting</td>\n",
              "    </tr>\n",
              "    <tr>\n",
              "      <th>3</th>\n",
              "      <td>1936</td>\n",
              "      <td>Mariela Mcmillan</td>\n",
              "      <td>28.0</td>\n",
              "      <td>94363.0</td>\n",
              "      <td>Sales</td>\n",
              "    </tr>\n",
              "    <tr>\n",
              "      <th>4</th>\n",
              "      <td>1464</td>\n",
              "      <td>Alana Washington</td>\n",
              "      <td>35.0</td>\n",
              "      <td>83573.0</td>\n",
              "      <td>Business Analytics</td>\n",
              "    </tr>\n",
              "  </tbody>\n",
              "</table>\n",
              "</div>"
            ],
            "text/plain": [
              "     ID              Name   Age   Salary             Department\n",
              "0  1106   Manisha Preethi  33.0  92546.0     Business Analytics\n",
              "1  1092    Rajni Jagadish  34.0  65924.0          Manufacturing\n",
              "2  1631      Vasu Sanjeev  23.0  42885.0  Management Consulting\n",
              "3  1936  Mariela Mcmillan  28.0  94363.0                  Sales\n",
              "4  1464  Alana Washington  35.0  83573.0     Business Analytics"
            ]
          },
          "execution_count": 20,
          "metadata": {},
          "output_type": "execute_result"
        }
      ],
      "source": [
        "# To view the first 3\n",
        "employee.head()"
      ]
    },
    {
      "cell_type": "code",
      "execution_count": null,
      "id": "1e3c14ff",
      "metadata": {
        "id": "1e3c14ff",
        "outputId": "a20771ab-22fd-4863-ed02-bc760b4a0e81"
      },
      "outputs": [
        {
          "data": {
            "text/plain": [
              "(      ID              Name   Age   Salary             Department\n",
              " 0   1106   Manisha Preethi  33.0  92546.0     Business Analytics\n",
              " 1   1092    Rajni Jagadish  34.0  65924.0          Manufacturing\n",
              " 2   1631      Vasu Sanjeev  23.0  42885.0  Management Consulting\n",
              " 3   1936  Mariela Mcmillan  28.0  94363.0                  Sales\n",
              " 4   1464  Alana Washington  35.0  83573.0     Business Analytics\n",
              " 5   1245    Sidney Ballard  37.0  33852.0  Management Consulting\n",
              " 6   1997    Esmeralda Mann   NaN  48713.0                  Sales\n",
              " 7   1955    Elian Bartlett  28.0  56757.0     Business Analytics\n",
              " 8   1251      Zion Huffman  33.0  31007.0                    NaN\n",
              " 9   1286     Lailah Kaiser  32.0  48899.0     Business Analytics\n",
              " 10  1739    Jaidyn Patrick  31.0  28685.0             Accounting\n",
              " 11  1711      Steve Duarte  37.0      NaN        Human Resources,\n",
              "       ID              Name   Age   Salary          Department\n",
              " 25  1883      Kyla Farrell  23.0  27867.0     Human Resources\n",
              " 26  1068      Kimora Lucas  37.0  44024.0                 NaN\n",
              " 27  1588     Alyvia Ramsey  35.0  90506.0     Human Resources\n",
              " 28  1268     Madalynn Ruiz  28.0  86144.0               Sales\n",
              " 29  1411    Ashly Peterson  29.0  77059.0  Business Analytics\n",
              " 30  1577  Gabriel Thornton  39.0      NaN                 NaN\n",
              " 31  1139   Elaine Santiago  24.0  85798.0               Sales\n",
              " 32  1772   Makenzie Herman  31.0  71262.0          Accounting)"
            ]
          },
          "execution_count": 21,
          "metadata": {},
          "output_type": "execute_result"
        }
      ],
      "source": [
        "# Try for the first 12 rows and last 8 rows separately\n",
        "employee.head(12),employee.tail(8)"
      ]
    },
    {
      "cell_type": "code",
      "execution_count": null,
      "id": "6ed91240",
      "metadata": {
        "id": "6ed91240"
      },
      "outputs": [],
      "source": [
        "# Indentifying the total number of rows and columns in the data"
      ]
    },
    {
      "cell_type": "code",
      "execution_count": null,
      "id": "f8c59b96",
      "metadata": {
        "id": "f8c59b96",
        "outputId": "e08503c4-faec-4793-a5ab-4aa017798f6a"
      },
      "outputs": [
        {
          "data": {
            "text/plain": [
              "(33, 5)"
            ]
          },
          "execution_count": 23,
          "metadata": {},
          "output_type": "execute_result"
        }
      ],
      "source": [
        "employee.shape"
      ]
    },
    {
      "cell_type": "code",
      "execution_count": null,
      "id": "f4f66cc7",
      "metadata": {
        "id": "f4f66cc7",
        "outputId": "e6ceecdb-22a1-45de-befb-6fbc487be57b"
      },
      "outputs": [
        {
          "name": "stdout",
          "output_type": "stream",
          "text": [
            "<class 'pandas.core.frame.DataFrame'>\n",
            "RangeIndex: 33 entries, 0 to 32\n",
            "Data columns (total 5 columns):\n",
            " #   Column      Non-Null Count  Dtype  \n",
            "---  ------      --------------  -----  \n",
            " 0   ID          33 non-null     int64  \n",
            " 1   Name        33 non-null     object \n",
            " 2   Age         28 non-null     float64\n",
            " 3   Salary      29 non-null     float64\n",
            " 4   Department  29 non-null     object \n",
            "dtypes: float64(2), int64(1), object(2)\n",
            "memory usage: 1.4+ KB\n"
          ]
        }
      ],
      "source": [
        "# Information about the data\n",
        "employee.info()"
      ]
    },
    {
      "cell_type": "code",
      "execution_count": null,
      "id": "d96a68ce",
      "metadata": {
        "id": "d96a68ce"
      },
      "outputs": [],
      "source": [
        "## Information tells how man Non-null values are present in each column"
      ]
    },
    {
      "cell_type": "code",
      "execution_count": null,
      "id": "9d375dd0",
      "metadata": {
        "colab": {
          "base_uri": "https://localhost:8080/",
          "height": 176
        },
        "id": "9d375dd0",
        "outputId": "9d2f83ac-01f4-4b37-bd13-5bb2cd2e6a06"
      },
      "outputs": [
        {
          "output_type": "error",
          "ename": "NameError",
          "evalue": "name 'employee' is not defined",
          "traceback": [
            "\u001b[0;31m---------------------------------------------------------------------------\u001b[0m",
            "\u001b[0;31mNameError\u001b[0m                                 Traceback (most recent call last)",
            "\u001b[0;32m<ipython-input-2-88568c7baa74>\u001b[0m in \u001b[0;36m<cell line: 4>\u001b[0;34m()\u001b[0m\n\u001b[1;32m      2\u001b[0m \u001b[0;31m## We will use the isnull() function\u001b[0m\u001b[0;34m\u001b[0m\u001b[0;34m\u001b[0m\u001b[0m\n\u001b[1;32m      3\u001b[0m \u001b[0;34m\u001b[0m\u001b[0m\n\u001b[0;32m----> 4\u001b[0;31m \u001b[0memployee\u001b[0m\u001b[0;34m.\u001b[0m\u001b[0misnull\u001b[0m\u001b[0;34m(\u001b[0m\u001b[0;34m)\u001b[0m\u001b[0;34m.\u001b[0m\u001b[0many\u001b[0m\u001b[0;34m(\u001b[0m\u001b[0;34m)\u001b[0m\u001b[0;34m\u001b[0m\u001b[0;34m\u001b[0m\u001b[0m\n\u001b[0m",
            "\u001b[0;31mNameError\u001b[0m: name 'employee' is not defined"
          ]
        }
      ],
      "source": [
        "# To find if there are any missing values in the data\n",
        "## We will use the isnull() function\n",
        "\n",
        "employee.isnull().any()"
      ]
    },
    {
      "cell_type": "code",
      "execution_count": null,
      "id": "167a9104",
      "metadata": {
        "id": "167a9104"
      },
      "outputs": [],
      "source": [
        "# Removing the null values\n",
        "# Syntax: dropna()\n",
        "new_employee = employee.dropna()"
      ]
    },
    {
      "cell_type": "code",
      "execution_count": null,
      "id": "f856980d",
      "metadata": {
        "id": "f856980d",
        "outputId": "0af439dc-ae5d-483d-bd8a-a1c623e962e5"
      },
      "outputs": [
        {
          "data": {
            "text/html": [
              "<div>\n",
              "<style scoped>\n",
              "    .dataframe tbody tr th:only-of-type {\n",
              "        vertical-align: middle;\n",
              "    }\n",
              "\n",
              "    .dataframe tbody tr th {\n",
              "        vertical-align: top;\n",
              "    }\n",
              "\n",
              "    .dataframe thead th {\n",
              "        text-align: right;\n",
              "    }\n",
              "</style>\n",
              "<table border=\"1\" class=\"dataframe\">\n",
              "  <thead>\n",
              "    <tr style=\"text-align: right;\">\n",
              "      <th></th>\n",
              "      <th>ID</th>\n",
              "      <th>Name</th>\n",
              "      <th>Age</th>\n",
              "      <th>Salary</th>\n",
              "      <th>Department</th>\n",
              "    </tr>\n",
              "  </thead>\n",
              "  <tbody>\n",
              "    <tr>\n",
              "      <th>0</th>\n",
              "      <td>1106</td>\n",
              "      <td>Manisha Preethi</td>\n",
              "      <td>33.0</td>\n",
              "      <td>92546.0</td>\n",
              "      <td>Business Analytics</td>\n",
              "    </tr>\n",
              "    <tr>\n",
              "      <th>1</th>\n",
              "      <td>1092</td>\n",
              "      <td>Rajni Jagadish</td>\n",
              "      <td>34.0</td>\n",
              "      <td>65924.0</td>\n",
              "      <td>Manufacturing</td>\n",
              "    </tr>\n",
              "    <tr>\n",
              "      <th>2</th>\n",
              "      <td>1631</td>\n",
              "      <td>Vasu Sanjeev</td>\n",
              "      <td>23.0</td>\n",
              "      <td>42885.0</td>\n",
              "      <td>Management Consulting</td>\n",
              "    </tr>\n",
              "    <tr>\n",
              "      <th>3</th>\n",
              "      <td>1936</td>\n",
              "      <td>Mariela Mcmillan</td>\n",
              "      <td>28.0</td>\n",
              "      <td>94363.0</td>\n",
              "      <td>Sales</td>\n",
              "    </tr>\n",
              "    <tr>\n",
              "      <th>4</th>\n",
              "      <td>1464</td>\n",
              "      <td>Alana Washington</td>\n",
              "      <td>35.0</td>\n",
              "      <td>83573.0</td>\n",
              "      <td>Business Analytics</td>\n",
              "    </tr>\n",
              "    <tr>\n",
              "      <th>5</th>\n",
              "      <td>1245</td>\n",
              "      <td>Sidney Ballard</td>\n",
              "      <td>37.0</td>\n",
              "      <td>33852.0</td>\n",
              "      <td>Management Consulting</td>\n",
              "    </tr>\n",
              "    <tr>\n",
              "      <th>7</th>\n",
              "      <td>1955</td>\n",
              "      <td>Elian Bartlett</td>\n",
              "      <td>28.0</td>\n",
              "      <td>56757.0</td>\n",
              "      <td>Business Analytics</td>\n",
              "    </tr>\n",
              "    <tr>\n",
              "      <th>9</th>\n",
              "      <td>1286</td>\n",
              "      <td>Lailah Kaiser</td>\n",
              "      <td>32.0</td>\n",
              "      <td>48899.0</td>\n",
              "      <td>Business Analytics</td>\n",
              "    </tr>\n",
              "    <tr>\n",
              "      <th>10</th>\n",
              "      <td>1739</td>\n",
              "      <td>Jaidyn Patrick</td>\n",
              "      <td>31.0</td>\n",
              "      <td>28685.0</td>\n",
              "      <td>Accounting</td>\n",
              "    </tr>\n",
              "    <tr>\n",
              "      <th>12</th>\n",
              "      <td>1906</td>\n",
              "      <td>Kaleigh Wiggins</td>\n",
              "      <td>23.0</td>\n",
              "      <td>85430.0</td>\n",
              "      <td>Business Analytics</td>\n",
              "    </tr>\n",
              "    <tr>\n",
              "      <th>13</th>\n",
              "      <td>1437</td>\n",
              "      <td>Teagan Mullen</td>\n",
              "      <td>29.0</td>\n",
              "      <td>80120.0</td>\n",
              "      <td>Accounting</td>\n",
              "    </tr>\n",
              "    <tr>\n",
              "      <th>15</th>\n",
              "      <td>1568</td>\n",
              "      <td>Dominic Huang</td>\n",
              "      <td>38.0</td>\n",
              "      <td>51077.0</td>\n",
              "      <td>Manufacturing</td>\n",
              "    </tr>\n",
              "    <tr>\n",
              "      <th>18</th>\n",
              "      <td>1553</td>\n",
              "      <td>Shayla Landry</td>\n",
              "      <td>35.0</td>\n",
              "      <td>32618.0</td>\n",
              "      <td>Manufacturing</td>\n",
              "    </tr>\n",
              "    <tr>\n",
              "      <th>20</th>\n",
              "      <td>1094</td>\n",
              "      <td>Jade Lynch</td>\n",
              "      <td>37.0</td>\n",
              "      <td>68054.0</td>\n",
              "      <td>Human Resources</td>\n",
              "    </tr>\n",
              "    <tr>\n",
              "      <th>24</th>\n",
              "      <td>1450</td>\n",
              "      <td>Johnathan Ortega</td>\n",
              "      <td>31.0</td>\n",
              "      <td>40065.0</td>\n",
              "      <td>Business Analytics</td>\n",
              "    </tr>\n",
              "    <tr>\n",
              "      <th>25</th>\n",
              "      <td>1883</td>\n",
              "      <td>Kyla Farrell</td>\n",
              "      <td>23.0</td>\n",
              "      <td>27867.0</td>\n",
              "      <td>Human Resources</td>\n",
              "    </tr>\n",
              "    <tr>\n",
              "      <th>27</th>\n",
              "      <td>1588</td>\n",
              "      <td>Alyvia Ramsey</td>\n",
              "      <td>35.0</td>\n",
              "      <td>90506.0</td>\n",
              "      <td>Human Resources</td>\n",
              "    </tr>\n",
              "    <tr>\n",
              "      <th>28</th>\n",
              "      <td>1268</td>\n",
              "      <td>Madalynn Ruiz</td>\n",
              "      <td>28.0</td>\n",
              "      <td>86144.0</td>\n",
              "      <td>Sales</td>\n",
              "    </tr>\n",
              "    <tr>\n",
              "      <th>29</th>\n",
              "      <td>1411</td>\n",
              "      <td>Ashly Peterson</td>\n",
              "      <td>29.0</td>\n",
              "      <td>77059.0</td>\n",
              "      <td>Business Analytics</td>\n",
              "    </tr>\n",
              "    <tr>\n",
              "      <th>31</th>\n",
              "      <td>1139</td>\n",
              "      <td>Elaine Santiago</td>\n",
              "      <td>24.0</td>\n",
              "      <td>85798.0</td>\n",
              "      <td>Sales</td>\n",
              "    </tr>\n",
              "    <tr>\n",
              "      <th>32</th>\n",
              "      <td>1772</td>\n",
              "      <td>Makenzie Herman</td>\n",
              "      <td>31.0</td>\n",
              "      <td>71262.0</td>\n",
              "      <td>Accounting</td>\n",
              "    </tr>\n",
              "  </tbody>\n",
              "</table>\n",
              "</div>"
            ],
            "text/plain": [
              "      ID              Name   Age   Salary             Department\n",
              "0   1106   Manisha Preethi  33.0  92546.0     Business Analytics\n",
              "1   1092    Rajni Jagadish  34.0  65924.0          Manufacturing\n",
              "2   1631      Vasu Sanjeev  23.0  42885.0  Management Consulting\n",
              "3   1936  Mariela Mcmillan  28.0  94363.0                  Sales\n",
              "4   1464  Alana Washington  35.0  83573.0     Business Analytics\n",
              "5   1245    Sidney Ballard  37.0  33852.0  Management Consulting\n",
              "7   1955    Elian Bartlett  28.0  56757.0     Business Analytics\n",
              "9   1286     Lailah Kaiser  32.0  48899.0     Business Analytics\n",
              "10  1739    Jaidyn Patrick  31.0  28685.0             Accounting\n",
              "12  1906   Kaleigh Wiggins  23.0  85430.0     Business Analytics\n",
              "13  1437     Teagan Mullen  29.0  80120.0             Accounting\n",
              "15  1568     Dominic Huang  38.0  51077.0          Manufacturing\n",
              "18  1553     Shayla Landry  35.0  32618.0          Manufacturing\n",
              "20  1094        Jade Lynch  37.0  68054.0        Human Resources\n",
              "24  1450  Johnathan Ortega  31.0  40065.0     Business Analytics\n",
              "25  1883      Kyla Farrell  23.0  27867.0        Human Resources\n",
              "27  1588     Alyvia Ramsey  35.0  90506.0        Human Resources\n",
              "28  1268     Madalynn Ruiz  28.0  86144.0                  Sales\n",
              "29  1411    Ashly Peterson  29.0  77059.0     Business Analytics\n",
              "31  1139   Elaine Santiago  24.0  85798.0                  Sales\n",
              "32  1772   Makenzie Herman  31.0  71262.0             Accounting"
            ]
          },
          "execution_count": 28,
          "metadata": {},
          "output_type": "execute_result"
        }
      ],
      "source": [
        "new_employee"
      ]
    },
    {
      "cell_type": "code",
      "execution_count": null,
      "id": "1e5d694f",
      "metadata": {
        "id": "1e5d694f",
        "outputId": "aa5d59aa-c2fe-454d-befc-ad68c14bca42"
      },
      "outputs": [
        {
          "data": {
            "text/plain": [
              "ID            False\n",
              "Name          False\n",
              "Age           False\n",
              "Salary        False\n",
              "Department    False\n",
              "dtype: bool"
            ]
          },
          "execution_count": 29,
          "metadata": {},
          "output_type": "execute_result"
        }
      ],
      "source": [
        "new_employee.isnull().any()"
      ]
    },
    {
      "cell_type": "code",
      "execution_count": null,
      "id": "04827af7",
      "metadata": {
        "id": "04827af7"
      },
      "outputs": [],
      "source": [
        "# Removing the null values\n",
        "# Loading the dataset to python\n",
        "# Creating a dataframe\n",
        "# Finding the information about the dataset\n",
        "# head and tail\n",
        "# shape of the data"
      ]
    },
    {
      "cell_type": "markdown",
      "id": "61cb0a90",
      "metadata": {
        "id": "61cb0a90"
      },
      "source": [
        "#### Descriptive Statistics"
      ]
    },
    {
      "cell_type": "code",
      "execution_count": null,
      "id": "ce90d435",
      "metadata": {
        "id": "ce90d435",
        "outputId": "ea8a1d93-c899-451e-bddf-64155a21916c"
      },
      "outputs": [
        {
          "data": {
            "text/html": [
              "<div>\n",
              "<style scoped>\n",
              "    .dataframe tbody tr th:only-of-type {\n",
              "        vertical-align: middle;\n",
              "    }\n",
              "\n",
              "    .dataframe tbody tr th {\n",
              "        vertical-align: top;\n",
              "    }\n",
              "\n",
              "    .dataframe thead th {\n",
              "        text-align: right;\n",
              "    }\n",
              "</style>\n",
              "<table border=\"1\" class=\"dataframe\">\n",
              "  <thead>\n",
              "    <tr style=\"text-align: right;\">\n",
              "      <th></th>\n",
              "      <th>ID</th>\n",
              "      <th>Age</th>\n",
              "      <th>Salary</th>\n",
              "    </tr>\n",
              "  </thead>\n",
              "  <tbody>\n",
              "    <tr>\n",
              "      <th>count</th>\n",
              "      <td>33.000000</td>\n",
              "      <td>28.000000</td>\n",
              "      <td>29.000000</td>\n",
              "    </tr>\n",
              "    <tr>\n",
              "      <th>mean</th>\n",
              "      <td>1495.484848</td>\n",
              "      <td>31.214286</td>\n",
              "      <td>61641.241379</td>\n",
              "    </tr>\n",
              "    <tr>\n",
              "      <th>std</th>\n",
              "      <td>280.014522</td>\n",
              "      <td>4.954288</td>\n",
              "      <td>22113.925580</td>\n",
              "    </tr>\n",
              "    <tr>\n",
              "      <th>min</th>\n",
              "      <td>1068.000000</td>\n",
              "      <td>23.000000</td>\n",
              "      <td>27867.000000</td>\n",
              "    </tr>\n",
              "    <tr>\n",
              "      <th>25%</th>\n",
              "      <td>1268.000000</td>\n",
              "      <td>28.000000</td>\n",
              "      <td>42885.000000</td>\n",
              "    </tr>\n",
              "    <tr>\n",
              "      <th>50%</th>\n",
              "      <td>1493.000000</td>\n",
              "      <td>31.000000</td>\n",
              "      <td>57417.000000</td>\n",
              "    </tr>\n",
              "    <tr>\n",
              "      <th>75%</th>\n",
              "      <td>1711.000000</td>\n",
              "      <td>35.000000</td>\n",
              "      <td>83573.000000</td>\n",
              "    </tr>\n",
              "    <tr>\n",
              "      <th>max</th>\n",
              "      <td>1997.000000</td>\n",
              "      <td>39.000000</td>\n",
              "      <td>94363.000000</td>\n",
              "    </tr>\n",
              "  </tbody>\n",
              "</table>\n",
              "</div>"
            ],
            "text/plain": [
              "                ID        Age        Salary\n",
              "count    33.000000  28.000000     29.000000\n",
              "mean   1495.484848  31.214286  61641.241379\n",
              "std     280.014522   4.954288  22113.925580\n",
              "min    1068.000000  23.000000  27867.000000\n",
              "25%    1268.000000  28.000000  42885.000000\n",
              "50%    1493.000000  31.000000  57417.000000\n",
              "75%    1711.000000  35.000000  83573.000000\n",
              "max    1997.000000  39.000000  94363.000000"
            ]
          },
          "execution_count": 31,
          "metadata": {},
          "output_type": "execute_result"
        }
      ],
      "source": [
        "# Describe the dataset statistically\n",
        "\n",
        "employee.describe()"
      ]
    },
    {
      "cell_type": "code",
      "execution_count": null,
      "id": "2c898f42",
      "metadata": {
        "id": "2c898f42"
      },
      "outputs": [],
      "source": [
        "# Try and get the descriptive statistics for new employee"
      ]
    },
    {
      "cell_type": "code",
      "execution_count": null,
      "id": "8d75ef2e",
      "metadata": {
        "id": "8d75ef2e",
        "outputId": "d202b80a-f102-49ed-fc2b-a08efabea88a"
      },
      "outputs": [
        {
          "data": {
            "text/plain": [
              "count       21.000000\n",
              "mean     63975.428571\n",
              "std      23090.225853\n",
              "min      27867.000000\n",
              "25%      42885.000000\n",
              "50%      68054.000000\n",
              "75%      85430.000000\n",
              "max      94363.000000\n",
              "Name: Salary, dtype: float64"
            ]
          },
          "execution_count": 33,
          "metadata": {},
          "output_type": "execute_result"
        }
      ],
      "source": [
        "new_employee['Salary'].describe()"
      ]
    },
    {
      "cell_type": "markdown",
      "id": "f037c991",
      "metadata": {
        "id": "f037c991"
      },
      "source": [
        "### Operations using Pandas"
      ]
    },
    {
      "cell_type": "code",
      "execution_count": null,
      "id": "6198a3fd",
      "metadata": {
        "id": "6198a3fd",
        "outputId": "59e04d42-1fc0-40cd-abb0-95e097e185ee"
      },
      "outputs": [
        {
          "data": {
            "text/plain": [
              "31.214285714285715"
            ]
          },
          "execution_count": 34,
          "metadata": {},
          "output_type": "execute_result"
        }
      ],
      "source": [
        "# Getting the average of a particular column\n"
      ]
    },
    {
      "cell_type": "code",
      "execution_count": null,
      "id": "53593541",
      "metadata": {
        "id": "53593541",
        "outputId": "9b3f0e13-6997-4b53-cfa0-6862db187d28"
      },
      "outputs": [
        {
          "name": "stdout",
          "output_type": "stream",
          "text": [
            "31.21\n"
          ]
        }
      ],
      "source": [
        "print(round(avg_age,2))"
      ]
    },
    {
      "cell_type": "code",
      "execution_count": null,
      "id": "179d61b2",
      "metadata": {
        "id": "179d61b2"
      },
      "outputs": [],
      "source": [
        "# Try finding the avg salary upto 4 decimals"
      ]
    },
    {
      "cell_type": "code",
      "execution_count": null,
      "id": "1518e0be",
      "metadata": {
        "id": "1518e0be",
        "outputId": "c7360b26-76bf-4e87-feb6-b6787fde5790"
      },
      "outputs": [
        {
          "data": {
            "text/plain": [
              "61641.2414"
            ]
          },
          "execution_count": 37,
          "metadata": {},
          "output_type": "execute_result"
        }
      ],
      "source": [
        "avg_salary = employee['Salary'].mean()\n",
        "round(avg_salary,4)"
      ]
    },
    {
      "cell_type": "code",
      "execution_count": null,
      "id": "2e773821",
      "metadata": {
        "id": "2e773821",
        "outputId": "f771932a-186f-425b-bdcd-5ebcf0869a87"
      },
      "outputs": [
        {
          "data": {
            "text/plain": [
              "23.0"
            ]
          },
          "execution_count": 38,
          "metadata": {},
          "output_type": "execute_result"
        }
      ],
      "source": [
        "# Minimum and Maximum values of Age\n",
        "employee['Age'].min()"
      ]
    },
    {
      "cell_type": "code",
      "execution_count": null,
      "id": "9fed667e",
      "metadata": {
        "id": "9fed667e",
        "outputId": "55a868ad-eae9-4aa5-d2fb-9efb634ffb47"
      },
      "outputs": [
        {
          "data": {
            "text/plain": [
              "39.0"
            ]
          },
          "execution_count": 39,
          "metadata": {},
          "output_type": "execute_result"
        }
      ],
      "source": [
        "employee['Age'].max()"
      ]
    },
    {
      "cell_type": "code",
      "execution_count": null,
      "id": "5967a9d0",
      "metadata": {
        "id": "5967a9d0"
      },
      "outputs": [],
      "source": [
        "# Find Min and max of salary"
      ]
    },
    {
      "cell_type": "code",
      "execution_count": null,
      "id": "feb64ebf",
      "metadata": {
        "id": "feb64ebf",
        "outputId": "1a89e59c-d247-4a79-fdff-3d131215edec"
      },
      "outputs": [
        {
          "data": {
            "text/plain": [
              "94363.0"
            ]
          },
          "execution_count": 41,
          "metadata": {},
          "output_type": "execute_result"
        }
      ],
      "source": [
        "employee['Salary'].max()"
      ]
    },
    {
      "cell_type": "code",
      "execution_count": null,
      "id": "d96e3d4a",
      "metadata": {
        "id": "d96e3d4a"
      },
      "outputs": [],
      "source": [
        "# Python is case sensitive"
      ]
    },
    {
      "cell_type": "code",
      "execution_count": null,
      "id": "3cf20205",
      "metadata": {
        "id": "3cf20205"
      },
      "outputs": [],
      "source": [
        "# Finding the median of salary\n",
        "median_sal = employee['Salary'].median()"
      ]
    },
    {
      "cell_type": "code",
      "execution_count": null,
      "id": "47020bc8",
      "metadata": {
        "id": "47020bc8",
        "outputId": "16e35ce1-0b13-4e14-ac16-8673b302e118"
      },
      "outputs": [
        {
          "data": {
            "text/plain": [
              "57417.0"
            ]
          },
          "execution_count": 44,
          "metadata": {},
          "output_type": "execute_result"
        }
      ],
      "source": [
        "median_sal"
      ]
    },
    {
      "cell_type": "code",
      "execution_count": null,
      "id": "356413c3",
      "metadata": {
        "id": "356413c3"
      },
      "outputs": [],
      "source": [
        " # Try finding the median of Age"
      ]
    },
    {
      "cell_type": "code",
      "execution_count": null,
      "id": "783deaed",
      "metadata": {
        "id": "783deaed",
        "outputId": "87fbafe2-fd56-464c-caad-92b90706fe20"
      },
      "outputs": [
        {
          "data": {
            "text/html": [
              "<div>\n",
              "<style scoped>\n",
              "    .dataframe tbody tr th:only-of-type {\n",
              "        vertical-align: middle;\n",
              "    }\n",
              "\n",
              "    .dataframe tbody tr th {\n",
              "        vertical-align: top;\n",
              "    }\n",
              "\n",
              "    .dataframe thead th {\n",
              "        text-align: right;\n",
              "    }\n",
              "</style>\n",
              "<table border=\"1\" class=\"dataframe\">\n",
              "  <thead>\n",
              "    <tr style=\"text-align: right;\">\n",
              "      <th></th>\n",
              "      <th>ID</th>\n",
              "      <th>Name</th>\n",
              "      <th>Age</th>\n",
              "      <th>Salary</th>\n",
              "      <th>Department</th>\n",
              "    </tr>\n",
              "  </thead>\n",
              "  <tbody>\n",
              "    <tr>\n",
              "      <th>0</th>\n",
              "      <td>1106</td>\n",
              "      <td>Manisha Preethi</td>\n",
              "      <td>33.0</td>\n",
              "      <td>92546.0</td>\n",
              "      <td>Business Analytics</td>\n",
              "    </tr>\n",
              "    <tr>\n",
              "      <th>1</th>\n",
              "      <td>1092</td>\n",
              "      <td>Rajni Jagadish</td>\n",
              "      <td>34.0</td>\n",
              "      <td>65924.0</td>\n",
              "      <td>Manufacturing</td>\n",
              "    </tr>\n",
              "    <tr>\n",
              "      <th>2</th>\n",
              "      <td>1631</td>\n",
              "      <td>Vasu Sanjeev</td>\n",
              "      <td>23.0</td>\n",
              "      <td>42885.0</td>\n",
              "      <td>Management Consulting</td>\n",
              "    </tr>\n",
              "    <tr>\n",
              "      <th>3</th>\n",
              "      <td>1936</td>\n",
              "      <td>Mariela Mcmillan</td>\n",
              "      <td>28.0</td>\n",
              "      <td>94363.0</td>\n",
              "      <td>Sales</td>\n",
              "    </tr>\n",
              "    <tr>\n",
              "      <th>4</th>\n",
              "      <td>1464</td>\n",
              "      <td>Alana Washington</td>\n",
              "      <td>35.0</td>\n",
              "      <td>83573.0</td>\n",
              "      <td>Business Analytics</td>\n",
              "    </tr>\n",
              "  </tbody>\n",
              "</table>\n",
              "</div>"
            ],
            "text/plain": [
              "     ID              Name   Age   Salary             Department\n",
              "0  1106   Manisha Preethi  33.0  92546.0     Business Analytics\n",
              "1  1092    Rajni Jagadish  34.0  65924.0          Manufacturing\n",
              "2  1631      Vasu Sanjeev  23.0  42885.0  Management Consulting\n",
              "3  1936  Mariela Mcmillan  28.0  94363.0                  Sales\n",
              "4  1464  Alana Washington  35.0  83573.0     Business Analytics"
            ]
          },
          "execution_count": 46,
          "metadata": {},
          "output_type": "execute_result"
        }
      ],
      "source": [
        "employee.head()"
      ]
    },
    {
      "cell_type": "code",
      "execution_count": null,
      "id": "2915da84",
      "metadata": {
        "id": "2915da84"
      },
      "outputs": [],
      "source": [
        "# To count the employees in each department\n",
        "## Syntax: value_counts()"
      ]
    },
    {
      "cell_type": "code",
      "execution_count": null,
      "id": "843ef3ab",
      "metadata": {
        "id": "843ef3ab",
        "outputId": "8794b5b1-9426-4ecf-dc5b-aa1513c8ec72"
      },
      "outputs": [
        {
          "data": {
            "text/plain": [
              "Business Analytics       8\n",
              "Manufacturing            5\n",
              "Human Resources          5\n",
              "Sales                    5\n",
              "Accounting               4\n",
              "Management Consulting    2\n",
              "Name: Department, dtype: int64"
            ]
          },
          "execution_count": 48,
          "metadata": {},
          "output_type": "execute_result"
        }
      ],
      "source": []
    },
    {
      "cell_type": "code",
      "execution_count": null,
      "id": "915ad103",
      "metadata": {
        "id": "915ad103"
      },
      "outputs": [],
      "source": [
        "# Filling the NA values with the median\n",
        "## Syntax : fillna"
      ]
    },
    {
      "cell_type": "code",
      "execution_count": null,
      "id": "43e6d79a",
      "metadata": {
        "id": "43e6d79a"
      },
      "outputs": [],
      "source": [
        "employee['Salary'] = employee['Salary'].fillna(employee['Salary'].median())"
      ]
    },
    {
      "cell_type": "code",
      "execution_count": null,
      "id": "f41d8771",
      "metadata": {
        "id": "f41d8771"
      },
      "outputs": [],
      "source": [
        "m = employee['Salary']"
      ]
    },
    {
      "cell_type": "code",
      "execution_count": null,
      "id": "5e6c54b6",
      "metadata": {
        "id": "5e6c54b6",
        "outputId": "d0e795ec-4fb1-4632-ebf6-f99612e2260e"
      },
      "outputs": [
        {
          "data": {
            "text/plain": [
              "False"
            ]
          },
          "execution_count": 52,
          "metadata": {},
          "output_type": "execute_result"
        }
      ],
      "source": [
        "employee['Salary'].isnull().any()"
      ]
    },
    {
      "cell_type": "code",
      "execution_count": null,
      "id": "deaa5211",
      "metadata": {
        "id": "deaa5211"
      },
      "outputs": [],
      "source": [
        "# Fill the missing ages with the median age\n",
        "## Filling the missing departments with Sales"
      ]
    },
    {
      "cell_type": "code",
      "execution_count": null,
      "id": "f199ac57",
      "metadata": {
        "id": "f199ac57"
      },
      "outputs": [],
      "source": [
        "# Adding a new row to the dataset"
      ]
    },
    {
      "cell_type": "code",
      "execution_count": null,
      "id": "73ed1714",
      "metadata": {
        "id": "73ed1714",
        "outputId": "aca2bfac-434d-467e-d33b-4009d1193769"
      },
      "outputs": [
        {
          "data": {
            "text/plain": [
              "Index(['ID', 'Name', 'Age', 'Salary', 'Department'], dtype='object')"
            ]
          },
          "execution_count": 58,
          "metadata": {},
          "output_type": "execute_result"
        }
      ],
      "source": [
        "employee.columns"
      ]
    },
    {
      "cell_type": "code",
      "execution_count": null,
      "id": "ed94ed05",
      "metadata": {
        "id": "ed94ed05",
        "outputId": "372f0e04-5340-47a1-ebda-f9c122c0b471"
      },
      "outputs": [
        {
          "data": {
            "text/plain": [
              "{'ID': [2001, 2006, 2008, 2015],\n",
              " 'Name': ['Amy', 'Jerry', 'Ram', 'Sita'],\n",
              " 'Age': [32, 44, 43, 44],\n",
              " 'Salary': [25000, 13450, 32145, 12342],\n",
              " 'Department': ['Sales', 'Analytics', 'Data Science', 'Sales']}"
            ]
          },
          "execution_count": 77,
          "metadata": {},
          "output_type": "execute_result"
        }
      ],
      "source": [
        "emp_dict = {'ID':[2001,2006,2008,2015],'Name':['Amy','Jerry','Ram','Sita'],\n",
        "           'Age':[32,44,43,44],'Salary':[25000,13450,32145,12342],'Department':['Sales','Analytics','Data Science','Sales']}\n",
        "emp_dict"
      ]
    },
    {
      "cell_type": "code",
      "execution_count": null,
      "id": "42a08fa2",
      "metadata": {
        "id": "42a08fa2",
        "outputId": "21912f05-3296-443d-a19a-f8840d69f90e"
      },
      "outputs": [
        {
          "data": {
            "text/html": [
              "<div>\n",
              "<style scoped>\n",
              "    .dataframe tbody tr th:only-of-type {\n",
              "        vertical-align: middle;\n",
              "    }\n",
              "\n",
              "    .dataframe tbody tr th {\n",
              "        vertical-align: top;\n",
              "    }\n",
              "\n",
              "    .dataframe thead th {\n",
              "        text-align: right;\n",
              "    }\n",
              "</style>\n",
              "<table border=\"1\" class=\"dataframe\">\n",
              "  <thead>\n",
              "    <tr style=\"text-align: right;\">\n",
              "      <th></th>\n",
              "      <th>ID</th>\n",
              "      <th>Name</th>\n",
              "      <th>Age</th>\n",
              "      <th>Salary</th>\n",
              "      <th>Department</th>\n",
              "    </tr>\n",
              "  </thead>\n",
              "  <tbody>\n",
              "    <tr>\n",
              "      <th>0</th>\n",
              "      <td>2001</td>\n",
              "      <td>Amy</td>\n",
              "      <td>32</td>\n",
              "      <td>25000</td>\n",
              "      <td>Sales</td>\n",
              "    </tr>\n",
              "    <tr>\n",
              "      <th>1</th>\n",
              "      <td>2006</td>\n",
              "      <td>Jerry</td>\n",
              "      <td>44</td>\n",
              "      <td>13450</td>\n",
              "      <td>Analytics</td>\n",
              "    </tr>\n",
              "    <tr>\n",
              "      <th>2</th>\n",
              "      <td>2008</td>\n",
              "      <td>Ram</td>\n",
              "      <td>43</td>\n",
              "      <td>32145</td>\n",
              "      <td>Data Science</td>\n",
              "    </tr>\n",
              "    <tr>\n",
              "      <th>3</th>\n",
              "      <td>2015</td>\n",
              "      <td>Sita</td>\n",
              "      <td>44</td>\n",
              "      <td>12342</td>\n",
              "      <td>Sales</td>\n",
              "    </tr>\n",
              "  </tbody>\n",
              "</table>\n",
              "</div>"
            ],
            "text/plain": [
              "     ID   Name  Age  Salary    Department\n",
              "0  2001    Amy   32   25000         Sales\n",
              "1  2006  Jerry   44   13450     Analytics\n",
              "2  2008    Ram   43   32145  Data Science\n",
              "3  2015   Sita   44   12342         Sales"
            ]
          },
          "execution_count": 79,
          "metadata": {},
          "output_type": "execute_result"
        }
      ],
      "source": [
        "emp_df = pd.DataFrame(emp_dict)\n",
        "emp_df"
      ]
    },
    {
      "cell_type": "code",
      "execution_count": null,
      "id": "01ee8868",
      "metadata": {
        "id": "01ee8868",
        "outputId": "e9d2f181-c7bd-48e1-bc81-306953996b4d"
      },
      "outputs": [
        {
          "data": {
            "text/html": [
              "<div>\n",
              "<style scoped>\n",
              "    .dataframe tbody tr th:only-of-type {\n",
              "        vertical-align: middle;\n",
              "    }\n",
              "\n",
              "    .dataframe tbody tr th {\n",
              "        vertical-align: top;\n",
              "    }\n",
              "\n",
              "    .dataframe thead th {\n",
              "        text-align: right;\n",
              "    }\n",
              "</style>\n",
              "<table border=\"1\" class=\"dataframe\">\n",
              "  <thead>\n",
              "    <tr style=\"text-align: right;\">\n",
              "      <th></th>\n",
              "      <th>ID</th>\n",
              "      <th>Name</th>\n",
              "      <th>Age</th>\n",
              "      <th>Salary</th>\n",
              "      <th>Department</th>\n",
              "    </tr>\n",
              "  </thead>\n",
              "  <tbody>\n",
              "    <tr>\n",
              "      <th>0</th>\n",
              "      <td>1106</td>\n",
              "      <td>Manisha Preethi</td>\n",
              "      <td>33.0</td>\n",
              "      <td>92546.0</td>\n",
              "      <td>Business Analytics</td>\n",
              "    </tr>\n",
              "    <tr>\n",
              "      <th>1</th>\n",
              "      <td>1092</td>\n",
              "      <td>Rajni Jagadish</td>\n",
              "      <td>34.0</td>\n",
              "      <td>65924.0</td>\n",
              "      <td>Manufacturing</td>\n",
              "    </tr>\n",
              "    <tr>\n",
              "      <th>2</th>\n",
              "      <td>1631</td>\n",
              "      <td>Vasu Sanjeev</td>\n",
              "      <td>23.0</td>\n",
              "      <td>42885.0</td>\n",
              "      <td>Management Consulting</td>\n",
              "    </tr>\n",
              "    <tr>\n",
              "      <th>3</th>\n",
              "      <td>1936</td>\n",
              "      <td>Mariela Mcmillan</td>\n",
              "      <td>28.0</td>\n",
              "      <td>94363.0</td>\n",
              "      <td>Sales</td>\n",
              "    </tr>\n",
              "    <tr>\n",
              "      <th>4</th>\n",
              "      <td>1464</td>\n",
              "      <td>Alana Washington</td>\n",
              "      <td>35.0</td>\n",
              "      <td>83573.0</td>\n",
              "      <td>Business Analytics</td>\n",
              "    </tr>\n",
              "  </tbody>\n",
              "</table>\n",
              "</div>"
            ],
            "text/plain": [
              "     ID              Name   Age   Salary             Department\n",
              "0  1106   Manisha Preethi  33.0  92546.0     Business Analytics\n",
              "1  1092    Rajni Jagadish  34.0  65924.0          Manufacturing\n",
              "2  1631      Vasu Sanjeev  23.0  42885.0  Management Consulting\n",
              "3  1936  Mariela Mcmillan  28.0  94363.0                  Sales\n",
              "4  1464  Alana Washington  35.0  83573.0     Business Analytics"
            ]
          },
          "execution_count": 61,
          "metadata": {},
          "output_type": "execute_result"
        }
      ],
      "source": [
        "employee.head()"
      ]
    },
    {
      "cell_type": "code",
      "execution_count": null,
      "id": "e21c80e5",
      "metadata": {
        "id": "e21c80e5"
      },
      "outputs": [],
      "source": [
        "# Adding the new row into the datset\n",
        "## Syntax: concat() - concatinanting / combining"
      ]
    },
    {
      "cell_type": "code",
      "execution_count": null,
      "id": "f3fb0443",
      "metadata": {
        "id": "f3fb0443"
      },
      "outputs": [],
      "source": [
        "emp_full = pd.concat([employee,emp_df],axis=0)"
      ]
    },
    {
      "cell_type": "code",
      "execution_count": null,
      "id": "37b8ad18",
      "metadata": {
        "id": "37b8ad18",
        "outputId": "37123711-4898-4a93-e1dd-2280ae53af99"
      },
      "outputs": [
        {
          "data": {
            "text/html": [
              "<div>\n",
              "<style scoped>\n",
              "    .dataframe tbody tr th:only-of-type {\n",
              "        vertical-align: middle;\n",
              "    }\n",
              "\n",
              "    .dataframe tbody tr th {\n",
              "        vertical-align: top;\n",
              "    }\n",
              "\n",
              "    .dataframe thead th {\n",
              "        text-align: right;\n",
              "    }\n",
              "</style>\n",
              "<table border=\"1\" class=\"dataframe\">\n",
              "  <thead>\n",
              "    <tr style=\"text-align: right;\">\n",
              "      <th></th>\n",
              "      <th>ID</th>\n",
              "      <th>Name</th>\n",
              "      <th>Age</th>\n",
              "      <th>Salary</th>\n",
              "      <th>Department</th>\n",
              "    </tr>\n",
              "  </thead>\n",
              "  <tbody>\n",
              "    <tr>\n",
              "      <th>0</th>\n",
              "      <td>1106</td>\n",
              "      <td>Manisha Preethi</td>\n",
              "      <td>33.0</td>\n",
              "      <td>92546.0</td>\n",
              "      <td>Business Analytics</td>\n",
              "    </tr>\n",
              "    <tr>\n",
              "      <th>1</th>\n",
              "      <td>1092</td>\n",
              "      <td>Rajni Jagadish</td>\n",
              "      <td>34.0</td>\n",
              "      <td>65924.0</td>\n",
              "      <td>Manufacturing</td>\n",
              "    </tr>\n",
              "    <tr>\n",
              "      <th>2</th>\n",
              "      <td>1631</td>\n",
              "      <td>Vasu Sanjeev</td>\n",
              "      <td>23.0</td>\n",
              "      <td>42885.0</td>\n",
              "      <td>Management Consulting</td>\n",
              "    </tr>\n",
              "    <tr>\n",
              "      <th>3</th>\n",
              "      <td>1936</td>\n",
              "      <td>Mariela Mcmillan</td>\n",
              "      <td>28.0</td>\n",
              "      <td>94363.0</td>\n",
              "      <td>Sales</td>\n",
              "    </tr>\n",
              "    <tr>\n",
              "      <th>4</th>\n",
              "      <td>1464</td>\n",
              "      <td>Alana Washington</td>\n",
              "      <td>35.0</td>\n",
              "      <td>83573.0</td>\n",
              "      <td>Business Analytics</td>\n",
              "    </tr>\n",
              "  </tbody>\n",
              "</table>\n",
              "</div>"
            ],
            "text/plain": [
              "     ID              Name   Age   Salary             Department\n",
              "0  1106   Manisha Preethi  33.0  92546.0     Business Analytics\n",
              "1  1092    Rajni Jagadish  34.0  65924.0          Manufacturing\n",
              "2  1631      Vasu Sanjeev  23.0  42885.0  Management Consulting\n",
              "3  1936  Mariela Mcmillan  28.0  94363.0                  Sales\n",
              "4  1464  Alana Washington  35.0  83573.0     Business Analytics"
            ]
          },
          "execution_count": 88,
          "metadata": {},
          "output_type": "execute_result"
        }
      ],
      "source": [
        "emp_full.head()"
      ]
    },
    {
      "cell_type": "code",
      "execution_count": null,
      "id": "45dd8cd7",
      "metadata": {
        "id": "45dd8cd7",
        "outputId": "56e42500-dab3-43fc-ebf9-1d85c0f19644"
      },
      "outputs": [
        {
          "data": {
            "text/html": [
              "<div>\n",
              "<style scoped>\n",
              "    .dataframe tbody tr th:only-of-type {\n",
              "        vertical-align: middle;\n",
              "    }\n",
              "\n",
              "    .dataframe tbody tr th {\n",
              "        vertical-align: top;\n",
              "    }\n",
              "\n",
              "    .dataframe thead th {\n",
              "        text-align: right;\n",
              "    }\n",
              "</style>\n",
              "<table border=\"1\" class=\"dataframe\">\n",
              "  <thead>\n",
              "    <tr style=\"text-align: right;\">\n",
              "      <th></th>\n",
              "      <th>ID</th>\n",
              "      <th>Name</th>\n",
              "      <th>Age</th>\n",
              "      <th>Salary</th>\n",
              "      <th>Department</th>\n",
              "    </tr>\n",
              "  </thead>\n",
              "  <tbody>\n",
              "    <tr>\n",
              "      <th>0</th>\n",
              "      <td>1106</td>\n",
              "      <td>Manisha Preethi</td>\n",
              "      <td>33.0</td>\n",
              "      <td>92546.0</td>\n",
              "      <td>Business Analytics</td>\n",
              "    </tr>\n",
              "    <tr>\n",
              "      <th>1</th>\n",
              "      <td>1092</td>\n",
              "      <td>Rajni Jagadish</td>\n",
              "      <td>34.0</td>\n",
              "      <td>65924.0</td>\n",
              "      <td>Manufacturing</td>\n",
              "    </tr>\n",
              "    <tr>\n",
              "      <th>2</th>\n",
              "      <td>1631</td>\n",
              "      <td>Vasu Sanjeev</td>\n",
              "      <td>23.0</td>\n",
              "      <td>42885.0</td>\n",
              "      <td>Management Consulting</td>\n",
              "    </tr>\n",
              "    <tr>\n",
              "      <th>3</th>\n",
              "      <td>1936</td>\n",
              "      <td>Mariela Mcmillan</td>\n",
              "      <td>28.0</td>\n",
              "      <td>94363.0</td>\n",
              "      <td>Sales</td>\n",
              "    </tr>\n",
              "    <tr>\n",
              "      <th>4</th>\n",
              "      <td>1464</td>\n",
              "      <td>Alana Washington</td>\n",
              "      <td>35.0</td>\n",
              "      <td>83573.0</td>\n",
              "      <td>Business Analytics</td>\n",
              "    </tr>\n",
              "    <tr>\n",
              "      <th>5</th>\n",
              "      <td>1245</td>\n",
              "      <td>Sidney Ballard</td>\n",
              "      <td>37.0</td>\n",
              "      <td>33852.0</td>\n",
              "      <td>Management Consulting</td>\n",
              "    </tr>\n",
              "    <tr>\n",
              "      <th>6</th>\n",
              "      <td>1997</td>\n",
              "      <td>Esmeralda Mann</td>\n",
              "      <td>NaN</td>\n",
              "      <td>48713.0</td>\n",
              "      <td>Sales</td>\n",
              "    </tr>\n",
              "    <tr>\n",
              "      <th>7</th>\n",
              "      <td>1955</td>\n",
              "      <td>Elian Bartlett</td>\n",
              "      <td>28.0</td>\n",
              "      <td>56757.0</td>\n",
              "      <td>Business Analytics</td>\n",
              "    </tr>\n",
              "    <tr>\n",
              "      <th>8</th>\n",
              "      <td>1251</td>\n",
              "      <td>Zion Huffman</td>\n",
              "      <td>33.0</td>\n",
              "      <td>31007.0</td>\n",
              "      <td>NaN</td>\n",
              "    </tr>\n",
              "    <tr>\n",
              "      <th>9</th>\n",
              "      <td>1286</td>\n",
              "      <td>Lailah Kaiser</td>\n",
              "      <td>32.0</td>\n",
              "      <td>48899.0</td>\n",
              "      <td>Business Analytics</td>\n",
              "    </tr>\n",
              "    <tr>\n",
              "      <th>10</th>\n",
              "      <td>1739</td>\n",
              "      <td>Jaidyn Patrick</td>\n",
              "      <td>31.0</td>\n",
              "      <td>28685.0</td>\n",
              "      <td>Accounting</td>\n",
              "    </tr>\n",
              "    <tr>\n",
              "      <th>11</th>\n",
              "      <td>1711</td>\n",
              "      <td>Steve Duarte</td>\n",
              "      <td>37.0</td>\n",
              "      <td>57417.0</td>\n",
              "      <td>Human Resources</td>\n",
              "    </tr>\n",
              "    <tr>\n",
              "      <th>12</th>\n",
              "      <td>1906</td>\n",
              "      <td>Kaleigh Wiggins</td>\n",
              "      <td>23.0</td>\n",
              "      <td>85430.0</td>\n",
              "      <td>Business Analytics</td>\n",
              "    </tr>\n",
              "    <tr>\n",
              "      <th>13</th>\n",
              "      <td>1437</td>\n",
              "      <td>Teagan Mullen</td>\n",
              "      <td>29.0</td>\n",
              "      <td>80120.0</td>\n",
              "      <td>Accounting</td>\n",
              "    </tr>\n",
              "    <tr>\n",
              "      <th>14</th>\n",
              "      <td>1319</td>\n",
              "      <td>Moriah Armstrong</td>\n",
              "      <td>23.0</td>\n",
              "      <td>53021.0</td>\n",
              "      <td>NaN</td>\n",
              "    </tr>\n",
              "    <tr>\n",
              "      <th>15</th>\n",
              "      <td>1568</td>\n",
              "      <td>Dominic Huang</td>\n",
              "      <td>38.0</td>\n",
              "      <td>51077.0</td>\n",
              "      <td>Manufacturing</td>\n",
              "    </tr>\n",
              "    <tr>\n",
              "      <th>16</th>\n",
              "      <td>1303</td>\n",
              "      <td>Deven Wallace</td>\n",
              "      <td>NaN</td>\n",
              "      <td>81215.0</td>\n",
              "      <td>Manufacturing</td>\n",
              "    </tr>\n",
              "    <tr>\n",
              "      <th>17</th>\n",
              "      <td>1584</td>\n",
              "      <td>Yahir Levine</td>\n",
              "      <td>NaN</td>\n",
              "      <td>57417.0</td>\n",
              "      <td>Sales</td>\n",
              "    </tr>\n",
              "    <tr>\n",
              "      <th>18</th>\n",
              "      <td>1553</td>\n",
              "      <td>Shayla Landry</td>\n",
              "      <td>35.0</td>\n",
              "      <td>32618.0</td>\n",
              "      <td>Manufacturing</td>\n",
              "    </tr>\n",
              "    <tr>\n",
              "      <th>19</th>\n",
              "      <td>1493</td>\n",
              "      <td>Judah Wong</td>\n",
              "      <td>NaN</td>\n",
              "      <td>86820.0</td>\n",
              "      <td>Accounting</td>\n",
              "    </tr>\n",
              "    <tr>\n",
              "      <th>20</th>\n",
              "      <td>1094</td>\n",
              "      <td>Jade Lynch</td>\n",
              "      <td>37.0</td>\n",
              "      <td>68054.0</td>\n",
              "      <td>Human Resources</td>\n",
              "    </tr>\n",
              "    <tr>\n",
              "      <th>21</th>\n",
              "      <td>1144</td>\n",
              "      <td>Dereon Sheppard</td>\n",
              "      <td>31.0</td>\n",
              "      <td>57417.0</td>\n",
              "      <td>Manufacturing</td>\n",
              "    </tr>\n",
              "    <tr>\n",
              "      <th>22</th>\n",
              "      <td>1781</td>\n",
              "      <td>Kimora Phelps</td>\n",
              "      <td>30.0</td>\n",
              "      <td>57417.0</td>\n",
              "      <td>Business Analytics</td>\n",
              "    </tr>\n",
              "    <tr>\n",
              "      <th>23</th>\n",
              "      <td>1600</td>\n",
              "      <td>Estrella Nunez</td>\n",
              "      <td>NaN</td>\n",
              "      <td>41895.0</td>\n",
              "      <td>Human Resources</td>\n",
              "    </tr>\n",
              "    <tr>\n",
              "      <th>24</th>\n",
              "      <td>1450</td>\n",
              "      <td>Johnathan Ortega</td>\n",
              "      <td>31.0</td>\n",
              "      <td>40065.0</td>\n",
              "      <td>Business Analytics</td>\n",
              "    </tr>\n",
              "    <tr>\n",
              "      <th>25</th>\n",
              "      <td>1883</td>\n",
              "      <td>Kyla Farrell</td>\n",
              "      <td>23.0</td>\n",
              "      <td>27867.0</td>\n",
              "      <td>Human Resources</td>\n",
              "    </tr>\n",
              "    <tr>\n",
              "      <th>26</th>\n",
              "      <td>1068</td>\n",
              "      <td>Kimora Lucas</td>\n",
              "      <td>37.0</td>\n",
              "      <td>44024.0</td>\n",
              "      <td>NaN</td>\n",
              "    </tr>\n",
              "    <tr>\n",
              "      <th>27</th>\n",
              "      <td>1588</td>\n",
              "      <td>Alyvia Ramsey</td>\n",
              "      <td>35.0</td>\n",
              "      <td>90506.0</td>\n",
              "      <td>Human Resources</td>\n",
              "    </tr>\n",
              "    <tr>\n",
              "      <th>28</th>\n",
              "      <td>1268</td>\n",
              "      <td>Madalynn Ruiz</td>\n",
              "      <td>28.0</td>\n",
              "      <td>86144.0</td>\n",
              "      <td>Sales</td>\n",
              "    </tr>\n",
              "    <tr>\n",
              "      <th>29</th>\n",
              "      <td>1411</td>\n",
              "      <td>Ashly Peterson</td>\n",
              "      <td>29.0</td>\n",
              "      <td>77059.0</td>\n",
              "      <td>Business Analytics</td>\n",
              "    </tr>\n",
              "    <tr>\n",
              "      <th>30</th>\n",
              "      <td>1577</td>\n",
              "      <td>Gabriel Thornton</td>\n",
              "      <td>39.0</td>\n",
              "      <td>57417.0</td>\n",
              "      <td>NaN</td>\n",
              "    </tr>\n",
              "    <tr>\n",
              "      <th>31</th>\n",
              "      <td>1139</td>\n",
              "      <td>Elaine Santiago</td>\n",
              "      <td>24.0</td>\n",
              "      <td>85798.0</td>\n",
              "      <td>Sales</td>\n",
              "    </tr>\n",
              "    <tr>\n",
              "      <th>32</th>\n",
              "      <td>1772</td>\n",
              "      <td>Makenzie Herman</td>\n",
              "      <td>31.0</td>\n",
              "      <td>71262.0</td>\n",
              "      <td>Accounting</td>\n",
              "    </tr>\n",
              "    <tr>\n",
              "      <th>0</th>\n",
              "      <td>2001</td>\n",
              "      <td>Amy</td>\n",
              "      <td>32.0</td>\n",
              "      <td>25000.0</td>\n",
              "      <td>Sales</td>\n",
              "    </tr>\n",
              "    <tr>\n",
              "      <th>1</th>\n",
              "      <td>2006</td>\n",
              "      <td>Jerry</td>\n",
              "      <td>44.0</td>\n",
              "      <td>13450.0</td>\n",
              "      <td>Analytics</td>\n",
              "    </tr>\n",
              "    <tr>\n",
              "      <th>2</th>\n",
              "      <td>2008</td>\n",
              "      <td>Ram</td>\n",
              "      <td>43.0</td>\n",
              "      <td>32145.0</td>\n",
              "      <td>Data Science</td>\n",
              "    </tr>\n",
              "    <tr>\n",
              "      <th>3</th>\n",
              "      <td>2015</td>\n",
              "      <td>Sita</td>\n",
              "      <td>44.0</td>\n",
              "      <td>12342.0</td>\n",
              "      <td>Sales</td>\n",
              "    </tr>\n",
              "  </tbody>\n",
              "</table>\n",
              "</div>"
            ],
            "text/plain": [
              "      ID              Name   Age   Salary             Department\n",
              "0   1106   Manisha Preethi  33.0  92546.0     Business Analytics\n",
              "1   1092    Rajni Jagadish  34.0  65924.0          Manufacturing\n",
              "2   1631      Vasu Sanjeev  23.0  42885.0  Management Consulting\n",
              "3   1936  Mariela Mcmillan  28.0  94363.0                  Sales\n",
              "4   1464  Alana Washington  35.0  83573.0     Business Analytics\n",
              "5   1245    Sidney Ballard  37.0  33852.0  Management Consulting\n",
              "6   1997    Esmeralda Mann   NaN  48713.0                  Sales\n",
              "7   1955    Elian Bartlett  28.0  56757.0     Business Analytics\n",
              "8   1251      Zion Huffman  33.0  31007.0                    NaN\n",
              "9   1286     Lailah Kaiser  32.0  48899.0     Business Analytics\n",
              "10  1739    Jaidyn Patrick  31.0  28685.0             Accounting\n",
              "11  1711      Steve Duarte  37.0  57417.0        Human Resources\n",
              "12  1906   Kaleigh Wiggins  23.0  85430.0     Business Analytics\n",
              "13  1437     Teagan Mullen  29.0  80120.0             Accounting\n",
              "14  1319  Moriah Armstrong  23.0  53021.0                    NaN\n",
              "15  1568     Dominic Huang  38.0  51077.0          Manufacturing\n",
              "16  1303     Deven Wallace   NaN  81215.0          Manufacturing\n",
              "17  1584      Yahir Levine   NaN  57417.0                  Sales\n",
              "18  1553     Shayla Landry  35.0  32618.0          Manufacturing\n",
              "19  1493        Judah Wong   NaN  86820.0             Accounting\n",
              "20  1094        Jade Lynch  37.0  68054.0        Human Resources\n",
              "21  1144   Dereon Sheppard  31.0  57417.0          Manufacturing\n",
              "22  1781     Kimora Phelps  30.0  57417.0     Business Analytics\n",
              "23  1600    Estrella Nunez   NaN  41895.0        Human Resources\n",
              "24  1450  Johnathan Ortega  31.0  40065.0     Business Analytics\n",
              "25  1883      Kyla Farrell  23.0  27867.0        Human Resources\n",
              "26  1068      Kimora Lucas  37.0  44024.0                    NaN\n",
              "27  1588     Alyvia Ramsey  35.0  90506.0        Human Resources\n",
              "28  1268     Madalynn Ruiz  28.0  86144.0                  Sales\n",
              "29  1411    Ashly Peterson  29.0  77059.0     Business Analytics\n",
              "30  1577  Gabriel Thornton  39.0  57417.0                    NaN\n",
              "31  1139   Elaine Santiago  24.0  85798.0                  Sales\n",
              "32  1772   Makenzie Herman  31.0  71262.0             Accounting\n",
              "0   2001               Amy  32.0  25000.0                  Sales\n",
              "1   2006             Jerry  44.0  13450.0              Analytics\n",
              "2   2008               Ram  43.0  32145.0           Data Science\n",
              "3   2015              Sita  44.0  12342.0                  Sales"
            ]
          },
          "execution_count": 89,
          "metadata": {},
          "output_type": "execute_result"
        }
      ],
      "source": [
        "emp_full"
      ]
    },
    {
      "cell_type": "code",
      "execution_count": null,
      "id": "006f2e4a",
      "metadata": {
        "id": "006f2e4a"
      },
      "outputs": [],
      "source": [
        "emp_full = pd.concat([employee,emp_df],axis=0,ignore_index=True)"
      ]
    },
    {
      "cell_type": "code",
      "execution_count": null,
      "id": "3639108c",
      "metadata": {
        "id": "3639108c",
        "outputId": "cbd932ef-1227-4e39-e765-d304cde01461"
      },
      "outputs": [
        {
          "data": {
            "text/html": [
              "<div>\n",
              "<style scoped>\n",
              "    .dataframe tbody tr th:only-of-type {\n",
              "        vertical-align: middle;\n",
              "    }\n",
              "\n",
              "    .dataframe tbody tr th {\n",
              "        vertical-align: top;\n",
              "    }\n",
              "\n",
              "    .dataframe thead th {\n",
              "        text-align: right;\n",
              "    }\n",
              "</style>\n",
              "<table border=\"1\" class=\"dataframe\">\n",
              "  <thead>\n",
              "    <tr style=\"text-align: right;\">\n",
              "      <th></th>\n",
              "      <th>ID</th>\n",
              "      <th>Name</th>\n",
              "      <th>Age</th>\n",
              "      <th>Salary</th>\n",
              "      <th>Department</th>\n",
              "    </tr>\n",
              "  </thead>\n",
              "  <tbody>\n",
              "    <tr>\n",
              "      <th>0</th>\n",
              "      <td>1106</td>\n",
              "      <td>Manisha Preethi</td>\n",
              "      <td>33.0</td>\n",
              "      <td>92546.0</td>\n",
              "      <td>Business Analytics</td>\n",
              "    </tr>\n",
              "    <tr>\n",
              "      <th>1</th>\n",
              "      <td>1092</td>\n",
              "      <td>Rajni Jagadish</td>\n",
              "      <td>34.0</td>\n",
              "      <td>65924.0</td>\n",
              "      <td>Manufacturing</td>\n",
              "    </tr>\n",
              "    <tr>\n",
              "      <th>2</th>\n",
              "      <td>1631</td>\n",
              "      <td>Vasu Sanjeev</td>\n",
              "      <td>23.0</td>\n",
              "      <td>42885.0</td>\n",
              "      <td>Management Consulting</td>\n",
              "    </tr>\n",
              "    <tr>\n",
              "      <th>3</th>\n",
              "      <td>1936</td>\n",
              "      <td>Mariela Mcmillan</td>\n",
              "      <td>28.0</td>\n",
              "      <td>94363.0</td>\n",
              "      <td>Sales</td>\n",
              "    </tr>\n",
              "    <tr>\n",
              "      <th>4</th>\n",
              "      <td>1464</td>\n",
              "      <td>Alana Washington</td>\n",
              "      <td>35.0</td>\n",
              "      <td>83573.0</td>\n",
              "      <td>Business Analytics</td>\n",
              "    </tr>\n",
              "    <tr>\n",
              "      <th>5</th>\n",
              "      <td>1245</td>\n",
              "      <td>Sidney Ballard</td>\n",
              "      <td>37.0</td>\n",
              "      <td>33852.0</td>\n",
              "      <td>Management Consulting</td>\n",
              "    </tr>\n",
              "    <tr>\n",
              "      <th>6</th>\n",
              "      <td>1997</td>\n",
              "      <td>Esmeralda Mann</td>\n",
              "      <td>NaN</td>\n",
              "      <td>48713.0</td>\n",
              "      <td>Sales</td>\n",
              "    </tr>\n",
              "    <tr>\n",
              "      <th>7</th>\n",
              "      <td>1955</td>\n",
              "      <td>Elian Bartlett</td>\n",
              "      <td>28.0</td>\n",
              "      <td>56757.0</td>\n",
              "      <td>Business Analytics</td>\n",
              "    </tr>\n",
              "    <tr>\n",
              "      <th>8</th>\n",
              "      <td>1251</td>\n",
              "      <td>Zion Huffman</td>\n",
              "      <td>33.0</td>\n",
              "      <td>31007.0</td>\n",
              "      <td>NaN</td>\n",
              "    </tr>\n",
              "    <tr>\n",
              "      <th>9</th>\n",
              "      <td>1286</td>\n",
              "      <td>Lailah Kaiser</td>\n",
              "      <td>32.0</td>\n",
              "      <td>48899.0</td>\n",
              "      <td>Business Analytics</td>\n",
              "    </tr>\n",
              "    <tr>\n",
              "      <th>10</th>\n",
              "      <td>1739</td>\n",
              "      <td>Jaidyn Patrick</td>\n",
              "      <td>31.0</td>\n",
              "      <td>28685.0</td>\n",
              "      <td>Accounting</td>\n",
              "    </tr>\n",
              "    <tr>\n",
              "      <th>11</th>\n",
              "      <td>1711</td>\n",
              "      <td>Steve Duarte</td>\n",
              "      <td>37.0</td>\n",
              "      <td>57417.0</td>\n",
              "      <td>Human Resources</td>\n",
              "    </tr>\n",
              "    <tr>\n",
              "      <th>12</th>\n",
              "      <td>1906</td>\n",
              "      <td>Kaleigh Wiggins</td>\n",
              "      <td>23.0</td>\n",
              "      <td>85430.0</td>\n",
              "      <td>Business Analytics</td>\n",
              "    </tr>\n",
              "    <tr>\n",
              "      <th>13</th>\n",
              "      <td>1437</td>\n",
              "      <td>Teagan Mullen</td>\n",
              "      <td>29.0</td>\n",
              "      <td>80120.0</td>\n",
              "      <td>Accounting</td>\n",
              "    </tr>\n",
              "    <tr>\n",
              "      <th>14</th>\n",
              "      <td>1319</td>\n",
              "      <td>Moriah Armstrong</td>\n",
              "      <td>23.0</td>\n",
              "      <td>53021.0</td>\n",
              "      <td>NaN</td>\n",
              "    </tr>\n",
              "    <tr>\n",
              "      <th>15</th>\n",
              "      <td>1568</td>\n",
              "      <td>Dominic Huang</td>\n",
              "      <td>38.0</td>\n",
              "      <td>51077.0</td>\n",
              "      <td>Manufacturing</td>\n",
              "    </tr>\n",
              "    <tr>\n",
              "      <th>16</th>\n",
              "      <td>1303</td>\n",
              "      <td>Deven Wallace</td>\n",
              "      <td>NaN</td>\n",
              "      <td>81215.0</td>\n",
              "      <td>Manufacturing</td>\n",
              "    </tr>\n",
              "    <tr>\n",
              "      <th>17</th>\n",
              "      <td>1584</td>\n",
              "      <td>Yahir Levine</td>\n",
              "      <td>NaN</td>\n",
              "      <td>57417.0</td>\n",
              "      <td>Sales</td>\n",
              "    </tr>\n",
              "    <tr>\n",
              "      <th>18</th>\n",
              "      <td>1553</td>\n",
              "      <td>Shayla Landry</td>\n",
              "      <td>35.0</td>\n",
              "      <td>32618.0</td>\n",
              "      <td>Manufacturing</td>\n",
              "    </tr>\n",
              "    <tr>\n",
              "      <th>19</th>\n",
              "      <td>1493</td>\n",
              "      <td>Judah Wong</td>\n",
              "      <td>NaN</td>\n",
              "      <td>86820.0</td>\n",
              "      <td>Accounting</td>\n",
              "    </tr>\n",
              "    <tr>\n",
              "      <th>20</th>\n",
              "      <td>1094</td>\n",
              "      <td>Jade Lynch</td>\n",
              "      <td>37.0</td>\n",
              "      <td>68054.0</td>\n",
              "      <td>Human Resources</td>\n",
              "    </tr>\n",
              "    <tr>\n",
              "      <th>21</th>\n",
              "      <td>1144</td>\n",
              "      <td>Dereon Sheppard</td>\n",
              "      <td>31.0</td>\n",
              "      <td>57417.0</td>\n",
              "      <td>Manufacturing</td>\n",
              "    </tr>\n",
              "    <tr>\n",
              "      <th>22</th>\n",
              "      <td>1781</td>\n",
              "      <td>Kimora Phelps</td>\n",
              "      <td>30.0</td>\n",
              "      <td>57417.0</td>\n",
              "      <td>Business Analytics</td>\n",
              "    </tr>\n",
              "    <tr>\n",
              "      <th>23</th>\n",
              "      <td>1600</td>\n",
              "      <td>Estrella Nunez</td>\n",
              "      <td>NaN</td>\n",
              "      <td>41895.0</td>\n",
              "      <td>Human Resources</td>\n",
              "    </tr>\n",
              "    <tr>\n",
              "      <th>24</th>\n",
              "      <td>1450</td>\n",
              "      <td>Johnathan Ortega</td>\n",
              "      <td>31.0</td>\n",
              "      <td>40065.0</td>\n",
              "      <td>Business Analytics</td>\n",
              "    </tr>\n",
              "    <tr>\n",
              "      <th>25</th>\n",
              "      <td>1883</td>\n",
              "      <td>Kyla Farrell</td>\n",
              "      <td>23.0</td>\n",
              "      <td>27867.0</td>\n",
              "      <td>Human Resources</td>\n",
              "    </tr>\n",
              "    <tr>\n",
              "      <th>26</th>\n",
              "      <td>1068</td>\n",
              "      <td>Kimora Lucas</td>\n",
              "      <td>37.0</td>\n",
              "      <td>44024.0</td>\n",
              "      <td>NaN</td>\n",
              "    </tr>\n",
              "    <tr>\n",
              "      <th>27</th>\n",
              "      <td>1588</td>\n",
              "      <td>Alyvia Ramsey</td>\n",
              "      <td>35.0</td>\n",
              "      <td>90506.0</td>\n",
              "      <td>Human Resources</td>\n",
              "    </tr>\n",
              "    <tr>\n",
              "      <th>28</th>\n",
              "      <td>1268</td>\n",
              "      <td>Madalynn Ruiz</td>\n",
              "      <td>28.0</td>\n",
              "      <td>86144.0</td>\n",
              "      <td>Sales</td>\n",
              "    </tr>\n",
              "    <tr>\n",
              "      <th>29</th>\n",
              "      <td>1411</td>\n",
              "      <td>Ashly Peterson</td>\n",
              "      <td>29.0</td>\n",
              "      <td>77059.0</td>\n",
              "      <td>Business Analytics</td>\n",
              "    </tr>\n",
              "    <tr>\n",
              "      <th>30</th>\n",
              "      <td>1577</td>\n",
              "      <td>Gabriel Thornton</td>\n",
              "      <td>39.0</td>\n",
              "      <td>57417.0</td>\n",
              "      <td>NaN</td>\n",
              "    </tr>\n",
              "    <tr>\n",
              "      <th>31</th>\n",
              "      <td>1139</td>\n",
              "      <td>Elaine Santiago</td>\n",
              "      <td>24.0</td>\n",
              "      <td>85798.0</td>\n",
              "      <td>Sales</td>\n",
              "    </tr>\n",
              "    <tr>\n",
              "      <th>32</th>\n",
              "      <td>1772</td>\n",
              "      <td>Makenzie Herman</td>\n",
              "      <td>31.0</td>\n",
              "      <td>71262.0</td>\n",
              "      <td>Accounting</td>\n",
              "    </tr>\n",
              "    <tr>\n",
              "      <th>33</th>\n",
              "      <td>2001</td>\n",
              "      <td>Amy</td>\n",
              "      <td>32.0</td>\n",
              "      <td>25000.0</td>\n",
              "      <td>Sales</td>\n",
              "    </tr>\n",
              "    <tr>\n",
              "      <th>34</th>\n",
              "      <td>2006</td>\n",
              "      <td>Jerry</td>\n",
              "      <td>44.0</td>\n",
              "      <td>13450.0</td>\n",
              "      <td>Analytics</td>\n",
              "    </tr>\n",
              "    <tr>\n",
              "      <th>35</th>\n",
              "      <td>2008</td>\n",
              "      <td>Ram</td>\n",
              "      <td>43.0</td>\n",
              "      <td>32145.0</td>\n",
              "      <td>Data Science</td>\n",
              "    </tr>\n",
              "    <tr>\n",
              "      <th>36</th>\n",
              "      <td>2015</td>\n",
              "      <td>Sita</td>\n",
              "      <td>44.0</td>\n",
              "      <td>12342.0</td>\n",
              "      <td>Sales</td>\n",
              "    </tr>\n",
              "  </tbody>\n",
              "</table>\n",
              "</div>"
            ],
            "text/plain": [
              "      ID              Name   Age   Salary             Department\n",
              "0   1106   Manisha Preethi  33.0  92546.0     Business Analytics\n",
              "1   1092    Rajni Jagadish  34.0  65924.0          Manufacturing\n",
              "2   1631      Vasu Sanjeev  23.0  42885.0  Management Consulting\n",
              "3   1936  Mariela Mcmillan  28.0  94363.0                  Sales\n",
              "4   1464  Alana Washington  35.0  83573.0     Business Analytics\n",
              "5   1245    Sidney Ballard  37.0  33852.0  Management Consulting\n",
              "6   1997    Esmeralda Mann   NaN  48713.0                  Sales\n",
              "7   1955    Elian Bartlett  28.0  56757.0     Business Analytics\n",
              "8   1251      Zion Huffman  33.0  31007.0                    NaN\n",
              "9   1286     Lailah Kaiser  32.0  48899.0     Business Analytics\n",
              "10  1739    Jaidyn Patrick  31.0  28685.0             Accounting\n",
              "11  1711      Steve Duarte  37.0  57417.0        Human Resources\n",
              "12  1906   Kaleigh Wiggins  23.0  85430.0     Business Analytics\n",
              "13  1437     Teagan Mullen  29.0  80120.0             Accounting\n",
              "14  1319  Moriah Armstrong  23.0  53021.0                    NaN\n",
              "15  1568     Dominic Huang  38.0  51077.0          Manufacturing\n",
              "16  1303     Deven Wallace   NaN  81215.0          Manufacturing\n",
              "17  1584      Yahir Levine   NaN  57417.0                  Sales\n",
              "18  1553     Shayla Landry  35.0  32618.0          Manufacturing\n",
              "19  1493        Judah Wong   NaN  86820.0             Accounting\n",
              "20  1094        Jade Lynch  37.0  68054.0        Human Resources\n",
              "21  1144   Dereon Sheppard  31.0  57417.0          Manufacturing\n",
              "22  1781     Kimora Phelps  30.0  57417.0     Business Analytics\n",
              "23  1600    Estrella Nunez   NaN  41895.0        Human Resources\n",
              "24  1450  Johnathan Ortega  31.0  40065.0     Business Analytics\n",
              "25  1883      Kyla Farrell  23.0  27867.0        Human Resources\n",
              "26  1068      Kimora Lucas  37.0  44024.0                    NaN\n",
              "27  1588     Alyvia Ramsey  35.0  90506.0        Human Resources\n",
              "28  1268     Madalynn Ruiz  28.0  86144.0                  Sales\n",
              "29  1411    Ashly Peterson  29.0  77059.0     Business Analytics\n",
              "30  1577  Gabriel Thornton  39.0  57417.0                    NaN\n",
              "31  1139   Elaine Santiago  24.0  85798.0                  Sales\n",
              "32  1772   Makenzie Herman  31.0  71262.0             Accounting\n",
              "33  2001               Amy  32.0  25000.0                  Sales\n",
              "34  2006             Jerry  44.0  13450.0              Analytics\n",
              "35  2008               Ram  43.0  32145.0           Data Science\n",
              "36  2015              Sita  44.0  12342.0                  Sales"
            ]
          },
          "execution_count": 92,
          "metadata": {},
          "output_type": "execute_result"
        }
      ],
      "source": [
        "emp_full"
      ]
    },
    {
      "cell_type": "markdown",
      "id": "30f4aa3a",
      "metadata": {
        "id": "30f4aa3a"
      },
      "source": [
        " Try out all the functions for the Ecommerce dataset"
      ]
    },
    {
      "cell_type": "code",
      "execution_count": null,
      "id": "ea063678",
      "metadata": {
        "id": "ea063678"
      },
      "outputs": [],
      "source": []
    }
  ],
  "metadata": {
    "kernelspec": {
      "display_name": "Python 3",
      "language": "python",
      "name": "python3"
    },
    "language_info": {
      "codemirror_mode": {
        "name": "ipython",
        "version": 3
      },
      "file_extension": ".py",
      "mimetype": "text/x-python",
      "name": "python",
      "nbconvert_exporter": "python",
      "pygments_lexer": "ipython3",
      "version": "3.8.8"
    },
    "colab": {
      "provenance": [],
      "include_colab_link": true
    }
  },
  "nbformat": 4,
  "nbformat_minor": 5
}